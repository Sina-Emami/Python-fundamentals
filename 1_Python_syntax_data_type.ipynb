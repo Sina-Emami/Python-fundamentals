{
  "nbformat": 4,
  "nbformat_minor": 0,
  "metadata": {
    "colab": {
      "name": "1_Python_syntax_data_type.ipynb",
      "provenance": [],
      "collapsed_sections": [
        "XlF8KgBsgvAH",
        "viMB77oemK7-",
        "7VDiKgcxYZdd",
        "CEKu4A-jd7RM"
      ]
    },
    "kernelspec": {
      "name": "python3",
      "display_name": "Python 3"
    },
    "language_info": {
      "name": "python"
    }
  },
  "cells": [
    {
      "cell_type": "markdown",
      "source": [
        "# **Python Syntax** "
      ],
      "metadata": {
        "id": "QQ4TY84rbrrV"
      }
    },
    {
      "cell_type": "markdown",
      "source": [
        "## ***Print:***"
      ],
      "metadata": {
        "id": "Hhq5on4kSBJx"
      }
    },
    {
      "cell_type": "code",
      "source": [
        "print(\"Hello, World!\")"
      ],
      "metadata": {
        "id": "LHhUdu_tPfOe"
      },
      "execution_count": null,
      "outputs": []
    },
    {
      "cell_type": "code",
      "source": [
        "print('Hello, World!')"
      ],
      "metadata": {
        "id": "cVyd46X8Pipe"
      },
      "execution_count": null,
      "outputs": []
    },
    {
      "cell_type": "code",
      "source": [
        "print('Hello', ', ', 'World!')"
      ],
      "metadata": {
        "id": "VUBOPZbZXDlI"
      },
      "execution_count": null,
      "outputs": []
    },
    {
      "cell_type": "markdown",
      "source": [
        "```Strings``` can be declared by ```\" \"``` or ```' '``` :"
      ],
      "metadata": {
        "id": "0ptQS2GiPman"
      }
    },
    {
      "cell_type": "code",
      "source": [
        "# This is a comment\n",
        "print(\"Hello, World!\")\n",
        "\n",
        "print(\"Hello, World!\") # This is a comment"
      ],
      "metadata": {
        "id": "HW9dk-KlPjZH"
      },
      "execution_count": null,
      "outputs": []
    },
    {
      "cell_type": "markdown",
      "source": [
        "By default, the ```print``` command will go to the next line after printing the specified term."
      ],
      "metadata": {
        "id": "JCCEZwOjP0XX"
      }
    },
    {
      "cell_type": "code",
      "source": [
        "print(\"Hellooo\", end=', ')\n",
        "print(\"Are you ok?\")"
      ],
      "metadata": {
        "id": "C5IoYaHrTIxG"
      },
      "execution_count": null,
      "outputs": []
    },
    {
      "cell_type": "markdown",
      "source": [
        "If necessary, by changing the value of option ```end``` in ```print``` command, you may not go to the next line.\n",
        "\n",
        "The default value for ```end``` is equal to **\\n** and you can change it."
      ],
      "metadata": {
        "id": "U9C8F27XT7G1"
      }
    },
    {
      "cell_type": "code",
      "source": [
        "print(\"Hellooo\", end='::::::')\n",
        "print(\"Are you ok?\")"
      ],
      "metadata": {
        "id": "QK0uAms2TUl2"
      },
      "execution_count": null,
      "outputs": []
    },
    {
      "cell_type": "code",
      "source": [
        "print(\"Hellooo\", end='\\n')\n",
        "print(\"Are you ok?\")"
      ],
      "metadata": {
        "id": "E0p5xXxOUP0U"
      },
      "execution_count": null,
      "outputs": []
    },
    {
      "cell_type": "markdown",
      "source": [
        "## ⛔ ***Syntax Error:***"
      ],
      "metadata": {
        "id": "jGPqcJqZP8cE"
      }
    },
    {
      "cell_type": "code",
      "source": [
        "if 5 > 2:\n",
        "  print(\"Five is greater than two!\")"
      ],
      "metadata": {
        "id": "pNany0ElP3Gi"
      },
      "execution_count": null,
      "outputs": []
    },
    {
      "cell_type": "markdown",
      "source": [
        "Python will give you an error if you skip the indentation:"
      ],
      "metadata": {
        "id": "TYIhUzzuQFm0"
      }
    },
    {
      "cell_type": "code",
      "source": [
        "if 5 > 2:\n",
        "print(\"Five is greater than two!\")"
      ],
      "metadata": {
        "id": "yYte9oBWQByN"
      },
      "execution_count": null,
      "outputs": []
    },
    {
      "cell_type": "markdown",
      "source": [
        "You have to use the same number of spaces in the same block of code, otherwise Python will give you an error:"
      ],
      "metadata": {
        "id": "3PgXzmsoQIHj"
      }
    },
    {
      "cell_type": "code",
      "source": [
        "if 5 > 2:\n",
        " print(\"Five is greater than two!\") \n",
        "if 5 > 2:\n",
        "        print(\"Five is greater than two!\") "
      ],
      "metadata": {
        "id": "2D87vSXjQDAj"
      },
      "execution_count": null,
      "outputs": []
    },
    {
      "cell_type": "code",
      "source": [
        "if 5 > 2:\n",
        " print(\"Five is greater than two!\")\n",
        "        print(\"Five is greater than two!\")"
      ],
      "metadata": {
        "id": "os-XhCAiQKhN"
      },
      "execution_count": null,
      "outputs": []
    },
    {
      "cell_type": "markdown",
      "source": [
        "## ***Variable Names:***\n"
      ],
      "metadata": {
        "id": "v7g_vGksfd_5"
      }
    },
    {
      "cell_type": "markdown",
      "source": [
        "A variable can have a short name (like x and y) or a more descriptive name (age, carname, total_volume). Rules for Python variables:\n",
        "\n",
        "*   A variable name must start with a letter or the underscore character\n",
        "*   A variable name cannot start with a number\n",
        "*   A variable name can only contain alpha-numeric characters and underscores (A-z, 0-9, and _ )\n",
        "*   Variable names are case-sensitive (age, Age and AGE are three different variables)\n",
        "\n"
      ],
      "metadata": {
        "id": "MqKVcoA5frqY"
      }
    },
    {
      "cell_type": "markdown",
      "source": [
        "✅ Legal variable names:"
      ],
      "metadata": {
        "id": "0I_Igvbjf5gA"
      }
    },
    {
      "cell_type": "code",
      "source": [
        "myvar = \"John\"\n",
        "my_var = \"John\"\n",
        "_my_var = \"John\"\n",
        "myVar = \"John\"\n",
        "MYVAR = \"John\"\n",
        "myvar2 = \"John\""
      ],
      "metadata": {
        "id": "mlyqwhFWf-Wo"
      },
      "execution_count": null,
      "outputs": []
    },
    {
      "cell_type": "markdown",
      "source": [
        "⛔ Illegal variable names:"
      ],
      "metadata": {
        "id": "Cpo0wPhygBhf"
      }
    },
    {
      "cell_type": "code",
      "source": [
        "2myvar = \"John\"\n",
        "my-var = \"John\"\n",
        "my var = \"John\""
      ],
      "metadata": {
        "id": "ggfG7hNLgGux"
      },
      "execution_count": null,
      "outputs": []
    },
    {
      "cell_type": "markdown",
      "source": [
        "## **Multi Words Variable Names:**"
      ],
      "metadata": {
        "id": "XlF8KgBsgvAH"
      }
    },
    {
      "cell_type": "markdown",
      "source": [
        "Variable names with more than one word can be difficult to read.\n",
        "\n",
        "There are several techniques you can use to make them more readable:\n",
        "\n",
        "**Camel Case:**\n",
        "\n",
        "Each word, except the first, starts with a capital letter:\n",
        "```\n",
        "myVariableName = \"John\"\n",
        "```\n",
        "\n",
        "**Pascal Case:**\n",
        "\n",
        "Each word starts with a capital letter:\n",
        "```\n",
        "MyVariableName = \"John\"\n",
        "```\n",
        "**Snake Case:**\n",
        "\n",
        "Each word is separated by an underscore character:\n",
        "```\n",
        "my_variable_name = \"John\"\n",
        "```"
      ],
      "metadata": {
        "id": "q-GA9g-FgPBH"
      }
    },
    {
      "cell_type": "markdown",
      "source": [
        "# **Data type**"
      ],
      "metadata": {
        "id": "RC5URc1TQPkL"
      }
    },
    {
      "cell_type": "markdown",
      "source": [
        "Built-in Data Types\n",
        "In programming, data type is an important concept.\n",
        "\n",
        "Varibles are names that you can create in Python to store values.\n",
        "\n",
        "Variables can store data of different types, and different types can do different things.\n",
        "\n",
        "Python has the following data types built-in by default, in these categories:\n",
        "\n",
        "*  Text Type:\t```str```\n",
        "*  Numeric Types:\t```int```, ```float```, ```complex```\n",
        "*  Sequence Types:\t```list```, ```tuple```, ```range```\n",
        "*  Mapping Type:\t```dict```\n",
        "*  Set Types:\t```set```, ```frozenset```\n",
        "*  Boolean Type:\t```bool```\n",
        "*  Binary Types:\t```bytes```, ```bytearray```, ```memoryview```"
      ],
      "metadata": {
        "id": "cjUawDx8hrad"
      }
    },
    {
      "cell_type": "code",
      "source": [
        "x = 5\n",
        "y = \"Jack\"\n",
        "print(x)\n",
        "print(y)"
      ],
      "metadata": {
        "id": "uV3-fAP9QOT7"
      },
      "execution_count": null,
      "outputs": []
    },
    {
      "cell_type": "code",
      "source": [
        "x = 4       # x is of type int\n",
        "x = \"Sally\" # x is now of type str\n",
        "print(x)"
      ],
      "metadata": {
        "id": "1GwZCg6FV2DV"
      },
      "execution_count": null,
      "outputs": []
    },
    {
      "cell_type": "markdown",
      "source": [
        "Python has no command for declaring a variable.\n",
        "\n",
        "A variable is created the moment you first assign a value to it.\n",
        "Variables do not need to be declared with any particular type, and can even change type after they have been set"
      ],
      "metadata": {
        "id": "U_VsoUjnVoLZ"
      }
    },
    {
      "cell_type": "markdown",
      "source": [
        "```String``` variables can be declared either by using single or double quotes:"
      ],
      "metadata": {
        "id": "4k78tmEXWB9p"
      }
    },
    {
      "cell_type": "code",
      "source": [
        "x = \"John\"\n",
        "# is the same as\n",
        "x = 'John'"
      ],
      "metadata": {
        "id": "a_S9AoW6Vo-T"
      },
      "execution_count": null,
      "outputs": []
    },
    {
      "cell_type": "markdown",
      "source": [
        "Variable names are case-sensitive"
      ],
      "metadata": {
        "id": "9c84A2edWNKI"
      }
    },
    {
      "cell_type": "code",
      "source": [
        "a = 4\n",
        "A = \"Sally\"\n",
        "#A will not overwrite a\n",
        "print(a)\n",
        "print(A)"
      ],
      "metadata": {
        "id": "U4x7T4DhWNZJ"
      },
      "execution_count": null,
      "outputs": []
    },
    {
      "cell_type": "markdown",
      "source": [
        "You can get the data type of any object by using the ```type()``` function:"
      ],
      "metadata": {
        "id": "60NNsIqTiVAD"
      }
    },
    {
      "cell_type": "code",
      "source": [
        "x = str(3)    # x will be '3'\n",
        "y = int(3)    # y will be 3\n",
        "z = float(3)  # z will be 3.0\n",
        "w = 3+5j      # w will be (3+5j)\n",
        "\n",
        "print(x, \" type of it is: \", type(x))\n",
        "print(y, \" type of it is: \", type(y))\n",
        "print(z, \" type of it is: \", type(z))\n",
        "print(w, \" type of it is: \", type(w))"
      ],
      "metadata": {
        "id": "Tqw_ekz-WlDo"
      },
      "execution_count": null,
      "outputs": []
    },
    {
      "cell_type": "markdown",
      "source": [
        "## ***Boolean data types:***"
      ],
      "metadata": {
        "id": "viMB77oemK7-"
      }
    },
    {
      "cell_type": "markdown",
      "source": [
        "In programming you often need to know if an expression is ```True``` or ```False```.\n",
        "\n",
        "You can evaluate any expression in Python, and get one of two answers, ```True``` or ```False```.\n",
        "\n",
        "When you compare two values, the expression is evaluated and Python returns the **Boolean** answer:"
      ],
      "metadata": {
        "id": "4FDSwajzlyZ9"
      }
    },
    {
      "cell_type": "code",
      "source": [
        "print(10 > 9)\n",
        "print(10 == 9)\n",
        "print(10 < 9)"
      ],
      "metadata": {
        "id": "7N1GvOzOl1KF"
      },
      "execution_count": null,
      "outputs": []
    },
    {
      "cell_type": "code",
      "source": [
        "a = 200\n",
        "b = 33\n",
        "\n",
        "if b > a:\n",
        "  print(\"b is greater than a\")\n",
        "else:\n",
        "  print(\"b is not greater than a\")"
      ],
      "metadata": {
        "id": "9DwL9-XYmCZd"
      },
      "execution_count": null,
      "outputs": []
    },
    {
      "cell_type": "markdown",
      "source": [
        "The ```bool()``` function allows you to evaluate any value, and give you ```True``` or ```False``` in return:"
      ],
      "metadata": {
        "id": "WfmnA6wOmRb1"
      }
    },
    {
      "cell_type": "code",
      "source": [
        "print(bool(\"Hello\"))\n",
        "print(bool(15))\n",
        "print(bool(0))"
      ],
      "metadata": {
        "id": "cXkkZbSimXn0"
      },
      "execution_count": null,
      "outputs": []
    },
    {
      "cell_type": "markdown",
      "source": [
        "## **Python Collections (Arrays)**"
      ],
      "metadata": {
        "id": "BX--57PGqSYn"
      }
    },
    {
      "cell_type": "markdown",
      "source": [
        "There are four **collection data types** in the Python programming language:\n",
        "\n",
        "*  List is a collection which is ordered and changeable. Allows duplicate members.\n",
        "*  Tuple is a collection which is ordered and unchangeable. Allows duplicate members.\n",
        "*  Set is a collection which is unordered, unchangeable(you can remove and/or add items), and unindexed. No duplicate members.\n",
        "*  Dictionary is a collection which is ordered** and changeable. No duplicate members."
      ],
      "metadata": {
        "id": "O-9gsOAvqhK1"
      }
    },
    {
      "cell_type": "markdown",
      "source": [
        "### ***List:***"
      ],
      "metadata": {
        "id": "K_YN7l41oQhb"
      }
    },
    {
      "cell_type": "markdown",
      "source": [
        "```list``` is the most populare one.\n",
        "\n",
        "In the a ```list``` you can actually store multiple objects.\n",
        "\n",
        "Objects will go inside this syntax => ```[]```\n",
        "\n",
        "List items are **ordered**, **changeable**, and **allow duplicate values**.\n",
        "\n",
        "List items are indexed, the first item has index **[0]**, the second item has index **[1]** etc."
      ],
      "metadata": {
        "id": "sxtWjvqwot2I"
      }
    },
    {
      "cell_type": "code",
      "source": [
        "thislist = [\"apple\", \"banana\", \"cherry\", \"apple\", \"cherry\"]\n",
        "print(thislist)"
      ],
      "metadata": {
        "id": "zm4q-WTTpUCI"
      },
      "execution_count": null,
      "outputs": []
    },
    {
      "cell_type": "markdown",
      "source": [
        "To determine how many items a list has, use the ```len()``` function:"
      ],
      "metadata": {
        "id": "NgbKJyA2pyfI"
      }
    },
    {
      "cell_type": "code",
      "source": [
        "thislist = [\"apple\", \"banana\", \"cherry\"]\n",
        "print(len(thislist))"
      ],
      "metadata": {
        "id": "i2Men65ppr3m"
      },
      "execution_count": null,
      "outputs": []
    },
    {
      "cell_type": "code",
      "source": [
        "list1 = [\"apple\", \"banana\", \"cherry\"]\n",
        "list2 = [1, 5, 7, 9, 3]\n",
        "list3 = [True, False, False]\n",
        "list4 = [\"abc\", 34, True, 40, \"male\"]\n",
        "list5 = list((\"apple\", \"banana\", \"cherry\")) # note the double round-bracket"
      ],
      "metadata": {
        "id": "4GYSMru6p6IO"
      },
      "execution_count": null,
      "outputs": []
    },
    {
      "cell_type": "markdown",
      "source": [
        "```dir``` is a function in Python that will give you all the things you can do with a specific type."
      ],
      "metadata": {
        "id": "WgbvQ805sQll"
      }
    },
    {
      "cell_type": "code",
      "source": [
        "dir(list)"
      ],
      "metadata": {
        "id": "xIEtnPkNsJLq",
        "colab": {
          "base_uri": "https://localhost:8080/"
        },
        "outputId": "3a5d3036-5364-4818-c2ab-e59663aeb85d"
      },
      "execution_count": null,
      "outputs": [
        {
          "output_type": "execute_result",
          "data": {
            "text/plain": [
              "['__add__',\n",
              " '__class__',\n",
              " '__contains__',\n",
              " '__delattr__',\n",
              " '__delitem__',\n",
              " '__dir__',\n",
              " '__doc__',\n",
              " '__eq__',\n",
              " '__format__',\n",
              " '__ge__',\n",
              " '__getattribute__',\n",
              " '__getitem__',\n",
              " '__gt__',\n",
              " '__hash__',\n",
              " '__iadd__',\n",
              " '__imul__',\n",
              " '__init__',\n",
              " '__init_subclass__',\n",
              " '__iter__',\n",
              " '__le__',\n",
              " '__len__',\n",
              " '__lt__',\n",
              " '__mul__',\n",
              " '__ne__',\n",
              " '__new__',\n",
              " '__reduce__',\n",
              " '__reduce_ex__',\n",
              " '__repr__',\n",
              " '__reversed__',\n",
              " '__rmul__',\n",
              " '__setattr__',\n",
              " '__setitem__',\n",
              " '__sizeof__',\n",
              " '__str__',\n",
              " '__subclasshook__',\n",
              " 'append',\n",
              " 'clear',\n",
              " 'copy',\n",
              " 'count',\n",
              " 'extend',\n",
              " 'index',\n",
              " 'insert',\n",
              " 'pop',\n",
              " 'remove',\n",
              " 'reverse',\n",
              " 'sort']"
            ]
          },
          "metadata": {},
          "execution_count": 4
        }
      ]
    },
    {
      "cell_type": "code",
      "source": [
        "dir(__builtins__)"
      ],
      "metadata": {
        "id": "ND2excLfGev-"
      },
      "execution_count": null,
      "outputs": []
    },
    {
      "cell_type": "markdown",
      "source": [
        "You can create a list of numbers automatically using a `range`. For example:"
      ],
      "metadata": {
        "id": "P1YwN7PaIaeq"
      }
    },
    {
      "cell_type": "code",
      "source": [
        "list(range(1, 10))"
      ],
      "metadata": {
        "id": "YONxVtw0IdZS"
      },
      "execution_count": null,
      "outputs": []
    },
    {
      "cell_type": "markdown",
      "source": [
        "As you can see we just needed to specify the list boundaries inside range(). So, we specified 1and 10. Note that 10 is not included in the list. The generated list always runs up to one number before the upper number. In our example it goes up to 9 since the upper number is 10.\n",
        "\n",
        "You can also specify a step as a third argument:"
      ],
      "metadata": {
        "id": "zwaKvHWdIif7"
      }
    },
    {
      "cell_type": "code",
      "source": [
        "list(range(1, 10, 2))"
      ],
      "metadata": {
        "id": "fFHdibGDIiPJ"
      },
      "execution_count": null,
      "outputs": []
    },
    {
      "cell_type": "markdown",
      "source": [
        "We can index, slice, and so on:"
      ],
      "metadata": {
        "id": "_6ETprQCNbHV"
      }
    },
    {
      "cell_type": "code",
      "source": [
        "L = [123, 'spam', 1.23] # A list of three different-type objects\n",
        "\n",
        "print(L[0]) # Indexing by position\n",
        "\n",
        "print(L[:-1]) # Slicing a list returns a new list\n",
        "\n",
        "print(L + [4, 5, 6]) # Concatenation makes a new list too\n",
        "print(L) # We're not changing the original list"
      ],
      "metadata": {
        "id": "jh19hX-lNgP8",
        "colab": {
          "base_uri": "https://localhost:8080/"
        },
        "outputId": "9ca7ec98-f271-402a-f975-768ec497afc6"
      },
      "execution_count": null,
      "outputs": [
        {
          "output_type": "stream",
          "name": "stdout",
          "text": [
            "123\n",
            "[123, 'spam']\n",
            "[123, 'spam', 1.23, 4, 5, 6]\n",
            "[123, 'spam', 1.23]\n"
          ]
        }
      ]
    },
    {
      "cell_type": "markdown",
      "source": [
        "Python’s lists are related to arrays in other languages, but they tend to be more powerful.\n",
        "For one thing, they have no fixed type constraint—the list we just looked at, for example, contains three objects of completely different types (an integer, a string, and a\n",
        "floating-point number). Further, lists have no fixed size. That is, they can grow and\n",
        "shrink on demand, in response to list-specific operations:"
      ],
      "metadata": {
        "id": "ZGx8iSGoN_W1"
      }
    },
    {
      "cell_type": "code",
      "source": [
        "L = [123, 'spam', 1.23]\n",
        "\n",
        "L.append('NI') # Growing: add object at end of list\n",
        "print('L after appent: ', L)\n",
        "\n",
        "L.pop(2) # Shrinking: delete an item in the middle\n",
        "print('L after pop with index: ', L) # \"del L[2]\" deletes from a list too\n",
        "\n",
        "L.pop() # delete the last index by default\n",
        "print('L after pop without index: ', L)"
      ],
      "metadata": {
        "id": "kDCAC2fLON8T"
      },
      "execution_count": null,
      "outputs": []
    },
    {
      "cell_type": "markdown",
      "source": [
        "⛔ **Bounds Checking :**"
      ],
      "metadata": {
        "id": "-FPmnJPYPiHb"
      }
    },
    {
      "cell_type": "markdown",
      "source": [
        "Although lists have no fixed size, Python still doesn’t allow us to reference items that\n",
        "are not present. Indexing off the end of a list is always a mistake, but so is assigning off\n",
        "the end:"
      ],
      "metadata": {
        "id": "Ml4vkowhPR7q"
      }
    },
    {
      "cell_type": "code",
      "source": [
        "L = [123, 'spam', 1.23]\n",
        "\n",
        "print(L[99])"
      ],
      "metadata": {
        "id": "25qjgyeGPUQZ"
      },
      "execution_count": null,
      "outputs": []
    },
    {
      "cell_type": "code",
      "source": [
        "L = [123, 'spam', 1.23]\n",
        "\n",
        "L[99] = 1"
      ],
      "metadata": {
        "id": "dr3Q7QLyPdhB"
      },
      "execution_count": null,
      "outputs": []
    },
    {
      "cell_type": "markdown",
      "source": [
        "### ***Tuple:***"
      ],
      "metadata": {
        "id": "YsYBjDFl_DO2"
      }
    },
    {
      "cell_type": "markdown",
      "source": [
        "Tuple is like a list but with `()` instead of `[]`.\n",
        "\n",
        "A tuple is a collection which is **ordered**, **unchangeable**, and **allow duplicate**.\n",
        "\n",
        "Tuple items are indexed, the first item has index [0], the second item has index [1] etc."
      ],
      "metadata": {
        "id": "X9HZzF6q_bIF"
      }
    },
    {
      "cell_type": "markdown",
      "source": [
        "Create a Tuple:"
      ],
      "metadata": {
        "id": "IySYOTcKA9VJ"
      }
    },
    {
      "cell_type": "code",
      "source": [
        "thistuple_1 = (\"ali\", 123, 2.5)\n",
        "print('thistuple_1: ', thistuple_1)\n",
        "\n",
        "# It is also possible to use the tuple() constructor to make a tuple\n",
        "thistuple_2 = tuple((\"apple\", \"banana\", \"cherry\", \"apple\", \"cherry\")) # note the double round-brackets\n",
        "print('thistuple_2: ', thistuple_2)"
      ],
      "metadata": {
        "id": "0eznB76qAa2C"
      },
      "execution_count": null,
      "outputs": []
    },
    {
      "cell_type": "markdown",
      "source": [
        "Tuple Length:"
      ],
      "metadata": {
        "id": "ow4oGzeLAyx7"
      }
    },
    {
      "cell_type": "code",
      "source": [
        "thistuple = (\"apple\", \"banana\", \"cherry\")\n",
        "print('thistuple Length is: ', len(thistuple))"
      ],
      "metadata": {
        "id": "a9V6ZkvqAxDM"
      },
      "execution_count": null,
      "outputs": []
    },
    {
      "cell_type": "code",
      "source": [
        "'''\n",
        "To create a tuple with only one item, you have to add a comma after the item, \n",
        "otherwise Python will not recognize it as a tuple\n",
        "'''\n",
        "thistuple = (\"apple\",) # remember the comma\n",
        "print('(\"apple\",) type is: ', type(thistuple))\n",
        "\n",
        "#NOT a tuple\n",
        "thistuple = (\"apple\")\n",
        "print('(\"apple\") type is: ', type(thistuple))"
      ],
      "metadata": {
        "id": "9Yxi9t1KAB51"
      },
      "execution_count": null,
      "outputs": []
    },
    {
      "cell_type": "markdown",
      "source": [
        "Access Tuple Items:"
      ],
      "metadata": {
        "id": "CiAltEVgCDbv"
      }
    },
    {
      "cell_type": "code",
      "source": [
        "thistuple = (\"apple\", \"banana\", \"cherry\")\n",
        "print(\"second item in the tuple: \", thistuple[1]) # second item in the tuple"
      ],
      "metadata": {
        "id": "gs4RgI-aCGjC"
      },
      "execution_count": null,
      "outputs": []
    },
    {
      "cell_type": "markdown",
      "source": [
        "Negative indexing means start from the end."
      ],
      "metadata": {
        "id": "QLCDUkO4CTqm"
      }
    },
    {
      "cell_type": "code",
      "source": [
        "thistuple = (\"apple\", \"banana\", \"cherry\") # the last item of the tuple\n",
        "print(\"the last item of the tuple is:\", thistuple[-1])"
      ],
      "metadata": {
        "id": "WKKZkiC-CSXO"
      },
      "execution_count": null,
      "outputs": []
    },
    {
      "cell_type": "markdown",
      "source": [
        "tuples are immutable:"
      ],
      "metadata": {
        "id": "bSOvYXL5DUq8"
      }
    },
    {
      "cell_type": "code",
      "source": [
        "dir(tuple)"
      ],
      "metadata": {
        "id": "ZjYOt4P9DIIm",
        "colab": {
          "base_uri": "https://localhost:8080/"
        },
        "outputId": "245fa19b-a7c4-4025-cb5b-67e421615e94"
      },
      "execution_count": null,
      "outputs": [
        {
          "output_type": "execute_result",
          "data": {
            "text/plain": [
              "['__add__',\n",
              " '__class__',\n",
              " '__contains__',\n",
              " '__delattr__',\n",
              " '__dir__',\n",
              " '__doc__',\n",
              " '__eq__',\n",
              " '__format__',\n",
              " '__ge__',\n",
              " '__getattribute__',\n",
              " '__getitem__',\n",
              " '__getnewargs__',\n",
              " '__gt__',\n",
              " '__hash__',\n",
              " '__init__',\n",
              " '__init_subclass__',\n",
              " '__iter__',\n",
              " '__le__',\n",
              " '__len__',\n",
              " '__lt__',\n",
              " '__mul__',\n",
              " '__ne__',\n",
              " '__new__',\n",
              " '__reduce__',\n",
              " '__reduce_ex__',\n",
              " '__repr__',\n",
              " '__rmul__',\n",
              " '__setattr__',\n",
              " '__sizeof__',\n",
              " '__str__',\n",
              " '__subclasshook__',\n",
              " 'count',\n",
              " 'index']"
            ]
          },
          "metadata": {},
          "execution_count": 3
        }
      ]
    },
    {
      "cell_type": "markdown",
      "source": [
        "So, why have a type that is like a list, but supports fewer operations? Frankly, tuples\n",
        "are not generally used as often as lists in practice, but their immutability is the whole\n",
        "point. If you pass a collection of objects around your program as a list, it can be changed\n",
        "anywhere; if you use a tuple, it cannot. That is, tuples provide a sort of integrity constraint that is convenient in programs larger than those we’ll write here."
      ],
      "metadata": {
        "id": "Hz8Uj0fvSQwU"
      }
    },
    {
      "cell_type": "markdown",
      "source": [
        "### ***Dictionary:***"
      ],
      "metadata": {
        "id": "l1nQxth4J4O3"
      }
    },
    {
      "cell_type": "markdown",
      "source": [
        "they are not sequences at all, but are instead known as mappings. Mappings\n",
        "are also collections of other objects, but they store objects by key instead of by relative\n",
        "position.\n",
        "\n",
        "Dictionaries are used to store data values in key:value pairs\n",
        "\n",
        "They are written with curly brackets, and have keys and values\n",
        "\n",
        "A dictionary is a collection which is **ordered**(in older python version they were unordered), **changeable** and **do not allow duplicates**.\n",
        "\n",
        "We can index this dictionary by key to fetch and change the keys’ associated values."
      ],
      "metadata": {
        "id": "UF1Skc0NMN3q"
      }
    },
    {
      "cell_type": "code",
      "source": [
        "D = {'food': 'Spam', 'quantity': 4, 'color': 'pink'}\n",
        "\n",
        "print(D)\n",
        "\n",
        "print('Fetch value of key food', D['food'])\n",
        "\n",
        "D['quantity'] += 1 # Add 1 to 'quantity' value\n",
        "print('D after changes: ', D)"
      ],
      "metadata": {
        "id": "-O0372zjQ5ZO"
      },
      "execution_count": null,
      "outputs": []
    },
    {
      "cell_type": "markdown",
      "source": [
        "Although the curly-braces literal form does see use, it is perhaps more common to see\n",
        "dictionaries built up in different ways. The following code, for example, starts with an\n",
        "empty dictionary and fills it out one key at a time. Unlike out-of-bounds assignments\n",
        "in lists, which are forbidden, assignments to new dictionary keys create those keys:"
      ],
      "metadata": {
        "id": "DcGsnpPtRghe"
      }
    },
    {
      "cell_type": "code",
      "source": [
        "D = {}\n",
        "print('empty D: ', )\n",
        "D['name'] = 'Bob' # Create keys by assignment\n",
        "D['job'] = 'dev'\n",
        "D['age'] = 40\n",
        "\n",
        "print(D)\n",
        "print(D['name'])"
      ],
      "metadata": {
        "id": "2G9KDNdcRjW9"
      },
      "execution_count": null,
      "outputs": []
    },
    {
      "cell_type": "markdown",
      "source": [
        "### ***Set:***"
      ],
      "metadata": {
        "id": "wSc9NyQMLjSD"
      }
    },
    {
      "cell_type": "markdown",
      "source": [
        "A set is a collection which is **unordered**, **unchangeable**(but you can remove items and add new items), **unindexed**, and do not allow duplicate values.\n",
        "\n",
        "Sets cannot have two items with the same value."
      ],
      "metadata": {
        "id": "_oB0bqN_Ll0j"
      }
    },
    {
      "cell_type": "code",
      "source": [
        "thisset = {\"apple\", \"banana\", \"cherry\", \"apple\"}\n",
        "\n",
        "print(thisset)"
      ],
      "metadata": {
        "id": "8_nvCWH6Ufqg",
        "colab": {
          "base_uri": "https://localhost:8080/"
        },
        "outputId": "b3b7025d-9489-481b-bf97-19c2d08aeff0"
      },
      "execution_count": null,
      "outputs": [
        {
          "output_type": "stream",
          "name": "stdout",
          "text": [
            "{'apple', 'banana', 'cherry'}\n"
          ]
        }
      ]
    },
    {
      "cell_type": "markdown",
      "source": [
        "## ***String data types:***"
      ],
      "metadata": {
        "id": "QetINk66-X-f"
      }
    },
    {
      "cell_type": "markdown",
      "source": [
        "Strings are used to record textual information as well as arbitrary collections of bytes.\n",
        "\n",
        "Strings in python are surrounded by either single quotation marks, or double quotation marks.\n",
        "\n",
        "'hello' is the same as \"hello\".\n",
        "\n",
        "As sequences, strings support operations that assume a positional ordering among\n",
        "items. For example, if we have a four-character string, we can verify its length with the\n",
        "built-in len function and fetch its components with indexing expressions:"
      ],
      "metadata": {
        "id": "e9fQ18BM-r_O"
      }
    },
    {
      "cell_type": "code",
      "source": [
        "S = 'Spam'\n",
        "\n",
        "print(len(S)) # Length\n",
        "\n",
        "print(S[0]) # The first item in S, indexing by zero-based position\n",
        "\n",
        "print(S[1]) # The second item from the left"
      ],
      "metadata": {
        "id": "C8tplDSA-UsH"
      },
      "execution_count": null,
      "outputs": []
    },
    {
      "cell_type": "markdown",
      "source": [
        "Formally, a negative index is simply added to the string’s size, so the following two\n",
        "operations are equivalent (though the first is easier to code and less easy to get wrong):"
      ],
      "metadata": {
        "id": "ZkcndKXoTNwC"
      }
    },
    {
      "cell_type": "code",
      "source": [
        "S = 'Spam'\n",
        "\n",
        "print(S[-1]) # The last item in S\n",
        "\n",
        "print(S[len(S)-1]) # Negative indexing, the hard way"
      ],
      "metadata": {
        "id": "fVY9MqxSTQK0"
      },
      "execution_count": null,
      "outputs": []
    },
    {
      "cell_type": "code",
      "source": [
        "S = 'Spam'\n",
        "\n",
        "print(S[1:]) # Everything past the first (1:len(S))\n",
        "\n",
        "print(S) # S itself hasn't changed\n",
        "\n",
        "print(S[0:3]) # Everything but the last\n",
        "\n",
        "print(S[:3]) # Same as S[0:3]\n",
        "\n",
        "print(S[:-1]) # Everything but the last again, but simpler (0:-1)\n",
        "\n",
        "print(S[:]) # All of S as a top-level copy (0:len(S))"
      ],
      "metadata": {
        "id": "rPiews2hTdOx"
      },
      "execution_count": null,
      "outputs": []
    },
    {
      "cell_type": "markdown",
      "source": [
        "Notice that in the prior examples, we were not changing the original string with any of\n",
        "the operations we ran on it. Every string operation is defined to produce a new string\n",
        "as its result, because strings are immutable in Python—they cannot be changed in-place\n",
        "after they are created. For example, you can’t change a string by assigning to one of its\n",
        "positions, but you can always build a new one and assign it to the same name. Because\n",
        "Python cleans up old objects as you go (as you’ll see later), this isn’t as inefficient as it\n",
        "may sound:"
      ],
      "metadata": {
        "id": "m_CEl6oMUExh"
      }
    },
    {
      "cell_type": "code",
      "source": [
        "S = 'Spam'\n",
        "\n",
        "S[0] = 'z' # Immutable objects cannot be changed"
      ],
      "metadata": {
        "id": "AHykRBg7T_FC"
      },
      "execution_count": null,
      "outputs": []
    },
    {
      "cell_type": "code",
      "source": [
        "S = 'Spam'\n",
        "\n",
        "S = 'z' + S[1:] # But we can run expressions to make new objects\n",
        "print(S)"
      ],
      "metadata": {
        "colab": {
          "base_uri": "https://localhost:8080/"
        },
        "id": "BpsvVMgtUMjp",
        "outputId": "c957f2bd-740a-4255-e6f0-a6f4afd5a526"
      },
      "execution_count": null,
      "outputs": [
        {
          "output_type": "stream",
          "name": "stdout",
          "text": [
            "zpam\n"
          ]
        }
      ]
    },
    {
      "cell_type": "markdown",
      "source": [
        "## ***Input:***"
      ],
      "metadata": {
        "id": "TGf0x63iYQ8t"
      }
    },
    {
      "cell_type": "markdown",
      "source": [
        "Other task that is very important in programming is getting inputs.\n",
        "in Python , this is done using the ```input``` command.\n",
        " The output of this command is a ```string``` that represents a line of input."
      ],
      "metadata": {
        "id": "toTPq0xdXxW-"
      }
    },
    {
      "cell_type": "code",
      "source": [
        "s = input(\"enter something:\")\n",
        "print(s, \" type of it is: \", type(s))"
      ],
      "metadata": {
        "id": "r50LCfoGWtzb",
        "colab": {
          "base_uri": "https://localhost:8080/"
        },
        "outputId": "1ab0e797-44e2-4c94-e8e2-2eeceb023c9b"
      },
      "execution_count": null,
      "outputs": [
        {
          "output_type": "stream",
          "name": "stdout",
          "text": [
            "enter something:4\n",
            "4  type of it is:  <class 'str'>\n"
          ]
        }
      ]
    },
    {
      "cell_type": "markdown",
      "source": [
        "### Practice:"
      ],
      "metadata": {
        "id": "7VDiKgcxYZdd"
      }
    },
    {
      "cell_type": "markdown",
      "source": [
        "Write a program that get a name from user and say hello him/her at the exit:\n",
        "\n",
        "▶ Sample input:\n",
        "\n",
        "```Ali```\n",
        "\n",
        "▶ Sample output:\n",
        "\n",
        "```Hello Ali !```"
      ],
      "metadata": {
        "id": "fMDjXLKzYfvt"
      }
    },
    {
      "cell_type": "markdown",
      "source": [
        "#### Answer:"
      ],
      "metadata": {
        "id": "jvy2-VUeeBoz"
      }
    },
    {
      "cell_type": "code",
      "source": [
        "tttt = input()\n",
        "print('Hello ', tttt, '!')"
      ],
      "metadata": {
        "id": "wlaEgzFEYFCa",
        "colab": {
          "base_uri": "https://localhost:8080/"
        },
        "outputId": "80feb0c9-bffb-4d88-a7a6-46fefe107ce4"
      },
      "execution_count": null,
      "outputs": [
        {
          "output_type": "stream",
          "name": "stdout",
          "text": [
            "ali\n",
            "Hello  ali !\n"
          ]
        }
      ]
    },
    {
      "cell_type": "markdown",
      "source": [
        "## ***casting:***"
      ],
      "metadata": {
        "id": "FVJXXEPfcDY-"
      }
    },
    {
      "cell_type": "markdown",
      "source": [
        "You may sometimes need to change the type of variables from to ease the workthis can be done with something called **casting** in python."
      ],
      "metadata": {
        "id": "TU_11emrWnDi"
      }
    },
    {
      "cell_type": "code",
      "source": [
        "str(23) # '23'\n",
        "float(23) # 23.0\n",
        "int('23') # 23\n",
        "float('23') #23.0\n",
        "float('23.6') # 23.6\n",
        "str(23.6) # '23.6'\n",
        "int(23.6) # 23\n",
        "int(-1.6) # -1\n",
        "int(-9.6) # -9\n",
        "int(-0.6) # 0"
      ],
      "metadata": {
        "id": "Ly9vRggobobI"
      },
      "execution_count": null,
      "outputs": []
    },
    {
      "cell_type": "code",
      "source": [
        "r = '23' + '4'\n",
        "print(type(r))"
      ],
      "metadata": {
        "id": "uUN_0WsiEloJ"
      },
      "execution_count": null,
      "outputs": []
    },
    {
      "cell_type": "markdown",
      "source": [
        ""
      ],
      "metadata": {
        "id": "0ijGgeY2ElOi"
      }
    },
    {
      "cell_type": "markdown",
      "source": [
        "When converting floats to integers with the int() function, Python cuts off the decimal and remaining numbers of a float to create an integer. Even though we may want to round 390.8 up to 391, Python will not do this through the int() function."
      ],
      "metadata": {
        "id": "9wO2mHHacjJ2"
      }
    },
    {
      "cell_type": "markdown",
      "source": [
        "### Practice:\n"
      ],
      "metadata": {
        "id": "PP_1V-_Sc5YV"
      }
    },
    {
      "cell_type": "markdown",
      "source": [
        "Now, we want to write a program that takes two positive decimal numbers from the input and Print the correct value of sum of them.\n",
        "\n",
        "▶ Sample input 1:\n",
        "\n",
        "```\n",
        "2.3\n",
        "4.5\n",
        "```\n",
        "\n",
        "▶ Sample output 1:\n",
        "\n",
        "```\n",
        "6\n",
        "```\n",
        "\n",
        "▶ Sample input 2:\n",
        "\n",
        "```\n",
        "3.7\n",
        "6.5\n",
        "```\n",
        "\n",
        "▶ Sample output 2:\n",
        "\n",
        "```\n",
        "10\n",
        "```"
      ],
      "metadata": {
        "id": "rEM-bWw0dR0G"
      }
    },
    {
      "cell_type": "markdown",
      "source": [
        "#### Answer:"
      ],
      "metadata": {
        "id": "CEKu4A-jd7RM"
      }
    },
    {
      "cell_type": "code",
      "source": [
        "a1 = input(\"enter a number: \")\n",
        "print(type(a1))\n",
        "a2 = input()\n",
        "print(type(a2))\n",
        "\n",
        "a1 = float(a1)\n",
        "a2 = float(a2)\n",
        "c = int(a2 + a1)\n",
        "print(c)"
      ],
      "metadata": {
        "colab": {
          "base_uri": "https://localhost:8080/"
        },
        "id": "6TE2F9VWJ6gE",
        "outputId": "f3a083f5-5633-4ad2-e7d5-8a7bb6c0ec6a"
      },
      "execution_count": null,
      "outputs": [
        {
          "output_type": "stream",
          "name": "stdout",
          "text": [
            "enter a number: 2.3\n",
            "<class 'str'>\n",
            "4.6\n",
            "<class 'str'>\n",
            "6\n"
          ]
        }
      ]
    },
    {
      "cell_type": "code",
      "source": [
        "a1 = float(input())\n",
        "a2 = float(input())\n",
        "sum = int(a1 + a2)\n",
        "print(sum)"
      ],
      "metadata": {
        "id": "xeSfJzkxdtGj"
      },
      "execution_count": null,
      "outputs": []
    },
    {
      "cell_type": "markdown",
      "source": [
        "## ***Summery:***"
      ],
      "metadata": {
        "id": "amLnW-GvHI3d"
      }
    },
    {
      "cell_type": "markdown",
      "source": [
        "In this section you learned that:\n",
        "\n",
        "**Integers** are for representing whole numbers:\n",
        "\n",
        "    rank = 10\n",
        "    eggs = 12\n",
        "    people = 3\n",
        "\n",
        "\n",
        "**Floats** represent continuous values:\n",
        "\n",
        "    temperature = 10.2\n",
        "    rainfall = 5.98\n",
        "    elevation = 1031.88\n",
        "\n",
        "**Strings** represent any text:\n",
        "\n",
        "    message = \"Welcome to our online shop!\"\n",
        "    name = \"John\"\n",
        "    serial = \"R001991981SW\"\n",
        "\n",
        "**Lists** represent arrays of values that may change during the course of the program:\n",
        "\n",
        "    members = [\"Sim Soony\", \"Marry Roundknee\", \"Jack Corridor\"]\n",
        "    pixel_values = [252, 251, 251, 253, 250, 248, 247]\n",
        "\n",
        "**Dictionaries** represent pairs of keys and values:\n",
        "\n",
        "    phone_numbers = {\"John Smith\": \"+37682929928\", \"Marry Simpons\": \"+423998200919\"}\n",
        "    volcano_elevations = {\"Glacier Peak\": 3213.9, \"Rainer\": 4392.1}\n",
        "\n",
        "Keys of a dictionary can be extracted with:\n",
        "\n",
        "    phone_numbers.keys()\n",
        "\n",
        "Values of a dictionary can be extracted with:\n",
        "\n",
        "    phone_numbers.values()\n",
        "\n",
        "**Tuples** represent arrays of values that are not to be changed during the course of the program:\n",
        "\n",
        "    vowels = ('a', 'e', 'i', 'o', 'u')\n",
        "    one_digits = (0, 1, 2, 3, 4, 5, 6, 7, 8, 9)\n",
        "\n",
        "To find out what attributes a type has:\n",
        "\n",
        "    dir(str)\n",
        "    dir(list)\n",
        "    dir(dict)\n",
        "\n",
        "To find out what Python builtin functions there are:\n",
        "\n",
        "    dir(__builtins__)\n",
        "\n",
        "Documentation for a Python command can be found with:\n",
        "\n",
        "    help(str)\n",
        "    help(str.replace)\n",
        "    help(dict.values)"
      ],
      "metadata": {
        "id": "-MJiCXUbHNal"
      }
    },
    {
      "cell_type": "markdown",
      "source": [
        "![image.png](data:image/png;base64,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)"
      ],
      "metadata": {
        "id": "eATvh7b_AWAA"
      }
    },
    {
      "cell_type": "markdown",
      "source": [
        "**Lists**, **strings**, and **tuples** have a ***positive*** index system:\n",
        "\n",
        "    [\"Mon\", \"Tue\", \"Wed\", \"Thu\", \"Fri\", \"Sat\", \"Sun\"]\n",
        "      0      1       2       3      4      5     6\n",
        "\n",
        "\n",
        "And a ***negative*** index system:\n",
        "\n",
        "    [\"Mon\", \"Tue\", \"Wed\", \"Thu\", \"Fri\", \"Sat\", \"Sun\"]\n",
        "     -7     -6     -5     -4     -3     -2     -1\n",
        "\n",
        "In a **list**, the *2nd*, *3rd*, and *4th* items can be accessed with:\n",
        "\n",
        "    days = [\"Mon\", \"Tue\", \"Wed\", \"Thu\", \"Fri\", \"Sat\", \"Sun\"]\n",
        "    days[1:4]\n",
        "    Output: ['Tue', 'Wed', 'Thu']\n",
        "\n",
        "First three items of a list:\n",
        "\n",
        "    days = [\"Mon\", \"Tue\", \"Wed\", \"Thu\", \"Fri\", \"Sat\", \"Sun\"]\n",
        "    days[:3]\n",
        "    Output:['Mon', 'Tue', 'Wed'] \n",
        "\n",
        "Last three items of a list:\n",
        "\n",
        "    days = [\"Mon\", \"Tue\", \"Wed\", \"Thu\", \"Fri\", \"Sat\", \"Sun\"]\n",
        "    days[-3:]\n",
        "    Output: ['Fri', 'Sat', 'Sun']\n",
        "\n",
        "Everything but the last:\n",
        "\n",
        "    days = [\"Mon\", \"Tue\", \"Wed\", \"Thu\", \"Fri\", \"Sat\", \"Sun\"]\n",
        "    days[:-1] \n",
        "    Output: ['Mon', 'Tue', 'Wed', 'Thu', 'Fri', 'Sat'] \n",
        "\n",
        "Everything but the last two:\n",
        "\n",
        "    days = [\"Mon\", \"Tue\", \"Wed\", \"Thu\", \"Fri\", \"Sat\", \"Sun\"]\n",
        "    days[:-2] \n",
        "    Output: ['Mon', 'Tue', 'Wed', 'Thu', 'Fri']\n",
        "\n",
        "A single in a **dictionary** can be accessed using its *key*:\n",
        "\n",
        "    phone_numbers = {\"John Smith\":\"+37682929928\",\"Marry Simpsons\":\"+423998200919\"}\n",
        "    phone_numbers[\"Marry Simpsons\"]\n",
        "    Output: '+423998200919'"
      ],
      "metadata": {
        "id": "gXNU8HLBN2A0"
      }
    }
  ]
}