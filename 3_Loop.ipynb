{
  "nbformat": 4,
  "nbformat_minor": 0,
  "metadata": {
    "colab": {
      "name": "3_Loop.ipynb",
      "provenance": [],
      "collapsed_sections": []
    },
    "kernelspec": {
      "name": "python3",
      "display_name": "Python 3"
    },
    "language_info": {
      "name": "python"
    }
  },
  "cells": [
    {
      "cell_type": "markdown",
      "source": [
        "# **Loop** "
      ],
      "metadata": {
        "id": "mcKypncAQXTu"
      }
    },
    {
      "cell_type": "markdown",
      "source": [
        "## **While :**"
      ],
      "metadata": {
        "id": "PANzs0G3Qmvt"
      }
    },
    {
      "cell_type": "markdown",
      "source": [
        "It repeatedly executes a block of (normally indented) statements as long\n",
        "as a test at the top keeps evaluating to a true value."
      ],
      "metadata": {
        "id": "jSOv_ahdRLx7"
      }
    },
    {
      "cell_type": "markdown",
      "source": [
        "  **while structure:**\n",
        "\n",
        "    while condition:\n",
        "      # statements\n",
        "      pass\n",
        "    else:\n",
        "      # statements\n",
        "      pass"
      ],
      "metadata": {
        "id": "5qLXOFtlSj0Z"
      }
    },
    {
      "cell_type": "code",
      "execution_count": null,
      "metadata": {
        "colab": {
          "base_uri": "https://localhost:8080/"
        },
        "id": "1Zp0pJIPQGP6",
        "outputId": "c62606fa-d156-420d-b782-fccf7c413200"
      },
      "outputs": [
        {
          "output_type": "stream",
          "name": "stdout",
          "text": [
            "0 1 2 3 4 5 6 7 8 9 \n",
            " a is equal to b\n"
          ]
        }
      ],
      "source": [
        "a=0\n",
        "b=10\n",
        "while a < b: # One way to code counter loops\n",
        "  print(a, end=' ')\n",
        "  a += 1\n",
        "else:\n",
        "  print('\\n', 'a is equal to b')"
      ]
    },
    {
      "cell_type": "markdown",
      "source": [
        "**Break :**\n",
        "\n",
        "Jumps out of the closest enclosing loop (past the entire loop statement)"
      ],
      "metadata": {
        "id": "tFAeSdmSVs1E"
      }
    },
    {
      "cell_type": "code",
      "source": [
        "result = 0\n",
        "while True:\n",
        "    n = int(input('Enter a number:'))\n",
        "    if n == 0:\n",
        "        break\n",
        "    result = result + n\n",
        "print('Sum of the numbers: ', result)"
      ],
      "metadata": {
        "colab": {
          "base_uri": "https://localhost:8080/"
        },
        "id": "f8k1d9jJXcs6",
        "outputId": "4efaa59a-f6cb-405d-d31e-4dfbf1cb0009"
      },
      "execution_count": null,
      "outputs": [
        {
          "output_type": "stream",
          "name": "stdout",
          "text": [
            "Enter a number:0\n",
            "Sum of the numbers:  0\n"
          ]
        }
      ]
    },
    {
      "cell_type": "markdown",
      "source": [
        "**continue :**\n",
        "\n",
        "Jumps to the top of the closest enclosing loop (to the loop’s header line)"
      ],
      "metadata": {
        "id": "F_K6BQPuV4w0"
      }
    },
    {
      "cell_type": "markdown",
      "source": [
        "Produce odd numbers:"
      ],
      "metadata": {
        "id": "RebbJ44rYNUh"
      }
    },
    {
      "cell_type": "code",
      "source": [
        "x = 0\n",
        "while x < 10:\n",
        "    x += 1\n",
        "    if x % 2 == 0:\n",
        "        continue\n",
        "    print(x)"
      ],
      "metadata": {
        "colab": {
          "base_uri": "https://localhost:8080/"
        },
        "id": "Heu86mYpXf8B",
        "outputId": "cb8caf05-923a-4fd0-a5d5-e0e2020c2b47"
      },
      "execution_count": null,
      "outputs": [
        {
          "output_type": "stream",
          "name": "stdout",
          "text": [
            "1\n",
            "3\n",
            "5\n",
            "7\n",
            "9\n"
          ]
        }
      ]
    },
    {
      "cell_type": "markdown",
      "source": [
        "**pass :**\n",
        "\n",
        "Does nothing at all: it’s an empty statement placeholder"
      ],
      "metadata": {
        "id": "4BaulUFkV8bN"
      }
    },
    {
      "cell_type": "markdown",
      "source": [
        "**Loop else block :**\n",
        "\n",
        "Runs if and only if the loop is exited normally (i.e., without hitting a break)"
      ],
      "metadata": {
        "id": "_QvmCts0WElE"
      }
    },
    {
      "cell_type": "markdown",
      "source": [
        "    while <test1>:\n",
        "      <statements1>\n",
        "      if <test2>: break # Exit loop now, skip else\n",
        "      if <test3>: continue # Go to top of loop now, to test1. <statements3> will not be ran\n",
        "      <statements3>\n",
        "    else:\n",
        "      <statements2> # Run if we didn't hit a 'break'"
      ],
      "metadata": {
        "id": "1whT22yIWUMr"
      }
    },
    {
      "cell_type": "markdown",
      "source": [
        "### Practice:"
      ],
      "metadata": {
        "id": "tUO4HT0-VQ3N"
      }
    },
    {
      "cell_type": "markdown",
      "source": [
        "Write a program which produce Fibonacci series less than 10:"
      ],
      "metadata": {
        "id": "gWJQVGq-VW9e"
      }
    },
    {
      "cell_type": "markdown",
      "source": [
        "#### Answer:"
      ],
      "metadata": {
        "id": "8k6S2oAFVTO9"
      }
    },
    {
      "cell_type": "code",
      "source": [
        "a = 1\n",
        "b = 1\n",
        "while a < 10:\n",
        "    print(a)\n",
        "    c = b\n",
        "    b = a + b\n",
        "    a = c"
      ],
      "metadata": {
        "colab": {
          "base_uri": "https://localhost:8080/"
        },
        "id": "eBTjRnQkVC9m",
        "outputId": "70f1291b-013d-4ff2-c14b-5a87908420c9"
      },
      "execution_count": null,
      "outputs": [
        {
          "output_type": "stream",
          "name": "stdout",
          "text": [
            "1\n",
            "1\n",
            "2\n",
            "3\n",
            "5\n",
            "8\n"
          ]
        }
      ]
    },
    {
      "cell_type": "markdown",
      "source": [
        "## Question 1:"
      ],
      "metadata": {
        "id": "iiT9tM7eflzJ"
      }
    },
    {
      "cell_type": "markdown",
      "source": [
        "Write a program that will receive a number of entries before entering a zero digits in each step . After receiving a zero, the numbers must be printed on the contrary of their arrival .\n",
        "\n",
        "**Input:**\n",
        "\n",
        "The number of input numbers is less than 1000 . It is guaranteed that once a number 0 at the input end appears and the numbers in the input are the natural numbers up to 1000."
      ],
      "metadata": {
        "id": "thZ4J5Q1YG9f"
      }
    },
    {
      "cell_type": "markdown",
      "source": [
        "*Examples*:\n",
        "\n",
        "▶ Sample inputput:\n",
        "\n",
        "```\n",
        "3\n",
        "4\n",
        "7\n",
        "4\n",
        "9\n",
        "0\n",
        "```\n",
        "\n",
        "▶ Sample output:\n",
        "\n",
        "```\n",
        "9\n",
        "4\n",
        "7\n",
        "4\n",
        "3\n",
        "```"
      ],
      "metadata": {
        "id": "Tyw247_zflzL"
      }
    },
    {
      "cell_type": "markdown",
      "source": [
        "#### Answer 1:"
      ],
      "metadata": {
        "id": "vSkSCzYKflzM"
      }
    },
    {
      "cell_type": "code",
      "source": [
        "result = []\n",
        "\n",
        "while True:\n",
        "    n = int(input('Enter a number:'))\n",
        "    if n == 0:\n",
        "        break\n",
        "    result.append(n)\n",
        "\n",
        "result.reverse()\n",
        "print(\"Reversed numbers: \")\n",
        "# print(result)\n",
        "for i in result:\n",
        "  print(i)"
      ],
      "metadata": {
        "colab": {
          "base_uri": "https://localhost:8080/"
        },
        "outputId": "3ea2663c-1a04-4441-a8d4-811b32b06efe",
        "id": "OIOtddTWflzM"
      },
      "execution_count": null,
      "outputs": [
        {
          "output_type": "stream",
          "name": "stdout",
          "text": [
            "Enter a number:3\n",
            "Enter a number:4\n",
            "Enter a number:5\n",
            "Enter a number:0\n",
            "Reversed numbers: \n",
            "[5, 4, 3]\n",
            "5\n",
            "4\n",
            "3\n"
          ]
        }
      ]
    },
    {
      "cell_type": "markdown",
      "source": [
        "#### Answer 2:"
      ],
      "metadata": {
        "id": "5b72cc_oj0y9"
      }
    },
    {
      "cell_type": "code",
      "source": [
        "number = 0\n",
        "while True:\n",
        "    n = int(input('Enter a number:'))\n",
        "    if n == 0:\n",
        "        break\n",
        "    number = number * 10 + n\n",
        "\n",
        "reverse = 0\n",
        "while(number > 0):\n",
        "    last_digit = number % 10\n",
        "    reverse = reverse * 10 + last_digit\n",
        "    # print(reverse, '::::', last_digit , \" ::: \", number)\n",
        "    number = number // 10\n",
        "\n",
        "# display result\n",
        "print('The reverse number is =', reverse)"
      ],
      "metadata": {
        "colab": {
          "base_uri": "https://localhost:8080/"
        },
        "id": "hct4g-WQDKXo",
        "outputId": "3cc250f5-0e42-4595-8987-6b8ad00ca955"
      },
      "execution_count": null,
      "outputs": [
        {
          "output_type": "stream",
          "name": "stdout",
          "text": [
            "Enter a number:3\n",
            "Enter a number:4\n",
            "Enter a number:5\n",
            "Enter a number:6\n",
            "Enter a number:0\n",
            "6 :::: 6  :::  3456\n",
            "65 :::: 5  :::  345\n",
            "654 :::: 4  :::  34\n",
            "6543 :::: 3  :::  3\n",
            "The reverse number is = 6543\n"
          ]
        }
      ]
    },
    {
      "cell_type": "markdown",
      "source": [
        "## Question 2:"
      ],
      "metadata": {
        "id": "myJPbsjyY0Tx"
      }
    },
    {
      "cell_type": "markdown",
      "source": [
        "Write a program that will receive the number n from the input and then print a hollow square with the length and width of n with the star .\n",
        "\n",
        "    1 <= n <= 10"
      ],
      "metadata": {
        "id": "VfbHwoycL4Ku"
      }
    },
    {
      "cell_type": "markdown",
      "source": [
        "*Examples*:\n",
        "\n",
        "▶ Sample inputput 1:\n",
        "\n",
        "```\n",
        "6\n",
        "```\n",
        "\n",
        "▶ Sample output 1:\n",
        "\n",
        "```\n",
        "******\n",
        "*    *\n",
        "*    *\n",
        "*    *\n",
        "*    *\n",
        "******\n",
        "```"
      ],
      "metadata": {
        "id": "1y7tN4L6ZV17"
      }
    },
    {
      "cell_type": "markdown",
      "source": [
        "#### Answer1:"
      ],
      "metadata": {
        "id": "raGPZj2DZp1Y"
      }
    },
    {
      "cell_type": "code",
      "source": [
        "n = int(input('Enter a number:'))\n",
        "i = 1\n",
        "\n",
        "while(i <= n):\n",
        "  if(i == 1 or i == n):\n",
        "    j = 1\n",
        "    while(j <= n):\n",
        "      print('*', end='')\n",
        "      j += 1\n",
        "\n",
        "  else:\n",
        "    j = 1\n",
        "    while(j <= n):\n",
        "      if(j == 1 or j == n):\n",
        "        print('*', end='')\n",
        "      else:\n",
        "        print(' ', end='')\n",
        "      j += 1\n",
        "\n",
        "  i += 1\n",
        "\n",
        "  print()"
      ],
      "metadata": {
        "colab": {
          "base_uri": "https://localhost:8080/"
        },
        "id": "vpZF0eU0Zq-H",
        "outputId": "030f75d9-c096-4ec8-9ede-adf6acd55cb2"
      },
      "execution_count": null,
      "outputs": [
        {
          "output_type": "stream",
          "name": "stdout",
          "text": [
            "Enter a number:6\n",
            "******\n",
            "*    *\n",
            "*    *\n",
            "*    *\n",
            "*    *\n",
            "******\n"
          ]
        }
      ]
    },
    {
      "cell_type": "markdown",
      "source": [
        "#### Answer2:"
      ],
      "metadata": {
        "id": "QqgZRFl-bGCU"
      }
    },
    {
      "cell_type": "code",
      "source": [
        "a = 0\n",
        "b = 0\n",
        "n = int(input())\n",
        "\n",
        "while a < n:\n",
        "  if a == 0 or a == n-1:\n",
        "    b = 0\n",
        "    while b < n: \n",
        "      print(\"*\", end=\"\")\n",
        "      b += 1\n",
        "    else:\n",
        "      print(\"\")\n",
        "  else:\n",
        "    print(\"*\", end=\"\")\n",
        "    b = 1\n",
        "    while b < n-1:\n",
        "      print(\" \", end=\"\")\n",
        "      b += 1\n",
        "    else:\n",
        "      print(\"*\")\n",
        "  a += 1"
      ],
      "metadata": {
        "colab": {
          "base_uri": "https://localhost:8080/"
        },
        "id": "7miFmDITR59F",
        "outputId": "7aaf54b3-68cd-4c09-9b34-76c9d8e89880"
      },
      "execution_count": null,
      "outputs": [
        {
          "output_type": "stream",
          "name": "stdout",
          "text": [
            "6\n",
            "******\n",
            "*    *\n",
            "*    *\n",
            "*    *\n",
            "*    *\n",
            "******\n"
          ]
        }
      ]
    },
    {
      "cell_type": "markdown",
      "source": [
        "## **For :**"
      ],
      "metadata": {
        "id": "u0CCx6fFQqjV"
      }
    },
    {
      "cell_type": "markdown",
      "source": [
        "The for loop is a generic sequence iterator in Python: it can step through the items in\n",
        "any ordered sequence object. The for statement works on strings, lists, tuples, other\n",
        "built-in iterables, and new objects "
      ],
      "metadata": {
        "id": "au_jDl-qZd4v"
      }
    },
    {
      "cell_type": "markdown",
      "source": [
        "  **for structure:**\n",
        "\n",
        "    for <target> in <object>: # Assign object items to target\n",
        "      <statements> # Repeated loop body: use target\n",
        "      if <test>: break # Exit loop now, skip else\n",
        "      if <test>: continue # Go to top of loop now. <statements2> will not be ran\n",
        "      <statements2>\n",
        "    else:\n",
        "      <statements3> # If we didn't hit a 'break'"
      ],
      "metadata": {
        "id": "yXT2Vjq8Y2NP"
      }
    },
    {
      "cell_type": "code",
      "source": [
        "numbers = [1, 2, 3, 'ali', 55.555]\n",
        "\n",
        "for num in numbers:\n",
        "    print(num)"
      ],
      "metadata": {
        "colab": {
          "base_uri": "https://localhost:8080/"
        },
        "id": "4ClO1IglQslT",
        "outputId": "f0f0c195-6a98-4e23-9166-9f2d6a9665d0"
      },
      "execution_count": null,
      "outputs": [
        {
          "output_type": "stream",
          "name": "stdout",
          "text": [
            "1\n",
            "2\n",
            "3\n",
            "ali\n",
            "55.555\n"
          ]
        }
      ]
    },
    {
      "cell_type": "code",
      "source": [
        "T = [(1, 2), (3, 4), (5, 6)]\n",
        "for (a, b) in T: # Tuple assignment at work\n",
        "  print(a, b)"
      ],
      "metadata": {
        "colab": {
          "base_uri": "https://localhost:8080/"
        },
        "id": "HmnJcUdIab1-",
        "outputId": "aeb6e7db-742c-4bc3-bc76-0de8f4952177"
      },
      "execution_count": null,
      "outputs": [
        {
          "output_type": "stream",
          "name": "stdout",
          "text": [
            "1 2\n",
            "3 4\n",
            "5 6\n"
          ]
        }
      ]
    },
    {
      "cell_type": "code",
      "source": [
        "D = {'a': 1, 'b': 2, 'c': 3}\n",
        "for key in D: # Use dict keys iterator and index\n",
        "  print(key, '=>', D[key])"
      ],
      "metadata": {
        "colab": {
          "base_uri": "https://localhost:8080/"
        },
        "id": "LdIZOxOeY7fC",
        "outputId": "43c13fe2-1730-4ae5-b521-13e8004f4a03"
      },
      "execution_count": null,
      "outputs": [
        {
          "output_type": "stream",
          "name": "stdout",
          "text": [
            "a => 1\n",
            "b => 2\n",
            "c => 3\n"
          ]
        }
      ]
    },
    {
      "cell_type": "code",
      "source": [
        "D = {'a': 1, 'b': 2, 'c': 3}\n",
        "for key, value in D.items():\n",
        "  print(key, value)"
      ],
      "metadata": {
        "colab": {
          "base_uri": "https://localhost:8080/"
        },
        "id": "NRmV3_146LBo",
        "outputId": "dd153263-4bc7-4d1b-f603-010429a3d570"
      },
      "execution_count": null,
      "outputs": [
        {
          "output_type": "stream",
          "name": "stdout",
          "text": [
            "a 1\n",
            "b 2\n",
            "c 3\n"
          ]
        }
      ]
    },
    {
      "cell_type": "code",
      "source": [
        "D = {'a': 1, 'b': 2, 'c': 3}\n",
        "print('D.items: ', list(D.items()))\n",
        "\n",
        "for (key, value) in D.items(): # Iterate over both keys and values\n",
        "  print(key, '=>', value)"
      ],
      "metadata": {
        "colab": {
          "base_uri": "https://localhost:8080/"
        },
        "id": "oUyH7dctamV8",
        "outputId": "edf8dd78-6dc3-463b-a72c-b5ea82adef54"
      },
      "execution_count": null,
      "outputs": [
        {
          "output_type": "stream",
          "name": "stdout",
          "text": [
            "D.items:  [('a', 1), ('b', 2), ('c', 3)]\n",
            "a => 1\n",
            "b => 2\n",
            "c => 3\n"
          ]
        }
      ]
    },
    {
      "cell_type": "code",
      "source": [
        "for (a, b, c) in [(1, 2, 3), (4, 5, 6)]: # Used in for loop\n",
        "  print(a, b, c)"
      ],
      "metadata": {
        "colab": {
          "base_uri": "https://localhost:8080/"
        },
        "id": "CCnXYpShapzA",
        "outputId": "fdeb2e11-b949-41c8-cec4-98643245f619"
      },
      "execution_count": null,
      "outputs": [
        {
          "output_type": "stream",
          "name": "stdout",
          "text": [
            "1 2 3\n",
            "4 5 6\n"
          ]
        }
      ]
    },
    {
      "cell_type": "code",
      "source": [
        "words = [['s', 'a', 'l', 'a', 'm'], ['k', 'h', 'o', 'o', 'b', 'i', '?']]\n",
        "\n",
        "for word in words:\n",
        "    for char in word:\n",
        "        print(char, end='')\n",
        "    print('\\n')"
      ],
      "metadata": {
        "colab": {
          "base_uri": "https://localhost:8080/"
        },
        "id": "iQeNn_XXcxC7",
        "outputId": "fe9c86c6-5962-4af7-90c8-49bd91ec5642"
      },
      "execution_count": null,
      "outputs": [
        {
          "output_type": "stream",
          "name": "stdout",
          "text": [
            "salam\n",
            "\n",
            "khoobi?\n",
            "\n"
          ]
        }
      ]
    },
    {
      "cell_type": "markdown",
      "source": [
        "### **Range :**"
      ],
      "metadata": {
        "id": "kjkaNF41efRe"
      }
    },
    {
      "cell_type": "markdown",
      "source": [
        "The range function is really a general tool that can be used in a variety of contexts.\n",
        "Although it’s used most often to generate indexes in a for, you can use it anywhere you\n",
        "need a list of integers. "
      ],
      "metadata": {
        "id": "Vff1K14YSZbG"
      }
    },
    {
      "cell_type": "code",
      "source": [
        "list(range(5)), list(range(2, 5)), list(range(0, 10, 2))"
      ],
      "metadata": {
        "colab": {
          "base_uri": "https://localhost:8080/"
        },
        "id": "9W8XiEWqScwk",
        "outputId": "d4e06e25-4745-4dc8-ac10-e13ae111bdab"
      },
      "execution_count": null,
      "outputs": [
        {
          "output_type": "execute_result",
          "data": {
            "text/plain": [
              "([0, 1, 2, 3, 4], [2, 3, 4], [0, 2, 4, 6, 8])"
            ]
          },
          "metadata": {},
          "execution_count": 3
        }
      ]
    },
    {
      "cell_type": "markdown",
      "source": [
        "The range() function defaults to 0 as a starting value, however it is possible to specify the starting value by adding a parameter: range(2, 6), which means values from 2 to 6 (but not including 6)"
      ],
      "metadata": {
        "id": "UiTJzhWpSuZa"
      }
    },
    {
      "cell_type": "code",
      "source": [
        "for x in range(2, 6):\n",
        "  print(x)"
      ],
      "metadata": {
        "colab": {
          "base_uri": "https://localhost:8080/"
        },
        "id": "L2C7hJWESxM8",
        "outputId": "51499a0b-2093-445b-c334-f7e576e241bd"
      },
      "execution_count": null,
      "outputs": [
        {
          "output_type": "stream",
          "name": "stdout",
          "text": [
            "2\n",
            "3\n",
            "4\n",
            "5\n"
          ]
        }
      ]
    },
    {
      "cell_type": "code",
      "source": [
        "for i in range(5):\n",
        "    print(i, end=' ')\n",
        "\n",
        "print()\n",
        "\n",
        "for i in range(5, 10):\n",
        "    print(i, end=' ')\n",
        "\n",
        "print()\n",
        "\n",
        "for i in range(0, 10, 2):\n",
        "    print(i, end=' ')"
      ],
      "metadata": {
        "colab": {
          "base_uri": "https://localhost:8080/"
        },
        "id": "CRef8rOuSNr0",
        "outputId": "e3437ede-2a02-4fc3-bc6d-4405f8a0501a"
      },
      "execution_count": null,
      "outputs": [
        {
          "output_type": "stream",
          "name": "stdout",
          "text": [
            "0 1 2 3 4 \n",
            "5 6 7 8 9 \n",
            "0 2 4 6 8 "
          ]
        }
      ]
    },
    {
      "cell_type": "markdown",
      "source": [
        "**len :**"
      ],
      "metadata": {
        "id": "_Vz8VY0Uep-m"
      }
    },
    {
      "cell_type": "code",
      "source": [
        "words = ['hi', 'how?', 'na']\n",
        "\n",
        "for i in range(len(words)):\n",
        "    print(words[i])\n",
        "\n",
        "for i in range(0, len(words), 2):\n",
        "    print(\" *** \" + words[i])"
      ],
      "metadata": {
        "id": "8HPG9LwaexqH",
        "colab": {
          "base_uri": "https://localhost:8080/"
        },
        "outputId": "afa643ef-1a9d-4197-f7c7-8408fe1ebf48"
      },
      "execution_count": null,
      "outputs": [
        {
          "output_type": "stream",
          "name": "stdout",
          "text": [
            "hi\n",
            "how?\n",
            "na\n",
            " *** hi\n",
            " *** na\n"
          ]
        }
      ]
    },
    {
      "cell_type": "markdown",
      "source": [
        "## Question 3:"
      ],
      "metadata": {
        "id": "alUR7L8MfADl"
      }
    },
    {
      "cell_type": "markdown",
      "source": [
        "Write a program that will receive the number n from the input and then print the multiplication tables of 1 to n .\n",
        "\n",
        "    1 <= n <= 100"
      ],
      "metadata": {
        "id": "8ihlYuCsMXXV"
      }
    },
    {
      "cell_type": "markdown",
      "source": [
        "*Examples*:\n",
        "\n",
        "▶ Sample inputput 1:\n",
        "\n",
        "```\n",
        "3\n",
        "```\n",
        "\n",
        "▶ Sample output 1:\n",
        "\n",
        "```\n",
        "1 2 3\n",
        "2 4 6\n",
        "3 6 9\n",
        "```\n",
        "\n",
        "▶ Sample inputput 2:\n",
        "\n",
        "```\n",
        "5\n",
        "```\n",
        "\n",
        "▶ Sample output 2:\n",
        "\n",
        "```\n",
        "1 2 3 4 5\n",
        "2 4 6 8 10\n",
        "3 6 9 12 15\n",
        "4 8 12 16 20\n",
        "5 10 15 20 25\n",
        "```"
      ],
      "metadata": {
        "id": "43n-bfa3-WOk"
      }
    },
    {
      "cell_type": "markdown",
      "source": [
        "#### Answer:"
      ],
      "metadata": {
        "id": "oKTK7X8c7qfJ"
      }
    },
    {
      "cell_type": "code",
      "source": [
        "m = int(input())\n",
        "\n",
        "for i in range(1, m + 1):\n",
        "    print(\"  \")\n",
        "    for j in range(1, m + 1):\n",
        "        p = i * j\n",
        "        print(p, \" \", end='')"
      ],
      "metadata": {
        "id": "0TWka0T861wZ",
        "colab": {
          "base_uri": "https://localhost:8080/"
        },
        "outputId": "65eece62-ecba-4243-cc20-188ffc8a6601"
      },
      "execution_count": null,
      "outputs": [
        {
          "output_type": "stream",
          "name": "stdout",
          "text": [
            "5\n",
            "  \n",
            "1  2  3  4  5    \n",
            "2  4  6  8  10    \n",
            "3  6  9  12  15    \n",
            "4  8  12  16  20    \n",
            "5  10  15  20  25  "
          ]
        }
      ]
    },
    {
      "cell_type": "code",
      "source": [
        "a = 1\n",
        "number = int(input (\"Enter the number \")     \n",
        "while a <= number:\n",
        "  count = 1        \n",
        "  print (\"The Multiplication Table of: \", number)    \n",
        "  while count <=number:    \n",
        "      number = number * 1    \n",
        "      print (a * count)    \n",
        "      count += 1\n"
      ],
      "metadata": {
        "colab": {
          "base_uri": "https://localhost:8080/",
          "height": 130
        },
        "id": "ZYQSKAfeC6qP",
        "outputId": "a6b1ef1c-4417-4b7b-d30e-866e2a44f415"
      },
      "execution_count": null,
      "outputs": [
        {
          "output_type": "error",
          "ename": "SyntaxError",
          "evalue": "ignored",
          "traceback": [
            "\u001b[0;36m  File \u001b[0;32m\"<ipython-input-9-7fcc4e91128d>\"\u001b[0;36m, line \u001b[0;32m3\u001b[0m\n\u001b[0;31m    while a <= number :\u001b[0m\n\u001b[0m        ^\u001b[0m\n\u001b[0;31mSyntaxError\u001b[0m\u001b[0;31m:\u001b[0m invalid syntax\n"
          ]
        }
      ]
    },
    {
      "cell_type": "code",
      "source": [
        "a = 1\n",
        "number = int(input())\n",
        "while a <= number:\n",
        "  count = 1\n",
        "  print (\"The Multiplication Table of: \", number)    \n",
        "  while count <=number:    \n",
        "      number = number * 1    \n",
        "      print (a * count)    \n",
        "      count += 1\n",
        "  a += 1"
      ],
      "metadata": {
        "colab": {
          "base_uri": "https://localhost:8080/"
        },
        "id": "XiKEMxA8J3T2",
        "outputId": "8080a780-9628-4ab6-8dc8-f45989c141dd"
      },
      "execution_count": null,
      "outputs": [
        {
          "output_type": "stream",
          "name": "stdout",
          "text": [
            "3\n",
            "The Multiplication Table of:  3\n",
            "1\n",
            "2\n",
            "3\n",
            "The Multiplication Table of:  3\n",
            "2\n",
            "4\n",
            "6\n",
            "The Multiplication Table of:  3\n",
            "3\n",
            "6\n",
            "9\n"
          ]
        }
      ]
    },
    {
      "cell_type": "markdown",
      "source": [
        "## Question 4:"
      ],
      "metadata": {
        "id": "4zUNoRDrmwPH"
      }
    },
    {
      "cell_type": "markdown",
      "source": [
        "Write a program that takes the number n from the input and represents n first row of the triangle of Pascal Pascal.\n",
        "\n",
        "The triangle of Pascal is that first there is only one number 1 in the first row. Then in line ii, there are ii number that number one and the last, and each of the other numbers are the top two. The following image is the first six lines of the triangle of Pascal Pascal."
      ],
      "metadata": {
        "id": "mmt7zmundXQe"
      }
    },
    {
      "cell_type": "markdown",
      "source": [
        "![image.png](data:image/png;base64,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)"
      ],
      "metadata": {
        "id": "z-0yTsRbdbIM"
      }
    },
    {
      "cell_type": "markdown",
      "source": [
        "**Input:**\n",
        "\n",
        "The user insert the number n, it represents the number of entries to be printed .\n",
        "\n",
        "    1 ≤ n ≤ 100"
      ],
      "metadata": {
        "id": "huRlYEm1dlMf"
      }
    },
    {
      "cell_type": "markdown",
      "source": [
        "*Examples*:\n",
        "\n",
        "▶ Sample inputput:\n",
        "\n",
        "```\n",
        "5\n",
        "```\n",
        "\n",
        "▶ Sample output:\n",
        "\n",
        "```\n",
        "1\n",
        "1 1\n",
        "1 2 1\n",
        "1 3 3 1\n",
        "1 4 6 4 1\n",
        "```"
      ],
      "metadata": {
        "id": "15fBFxWcmwPL"
      }
    },
    {
      "cell_type": "markdown",
      "source": [
        "#### Answer 1:"
      ],
      "metadata": {
        "id": "0a4hd0_UmwPL"
      }
    },
    {
      "cell_type": "code",
      "source": [
        "from math import factorial\n",
        "\n",
        "n = int(input(\"Enter number: \"))\n",
        "\n",
        "for i in range(n):\n",
        "    for j in range(n-i+1):\n",
        "        # for left spacing\n",
        "        print(end=\" \")\n",
        " \n",
        "    for j in range(i+1):\n",
        "        # nCr = n!/((n-r)!*r!)\n",
        "        print(factorial(i)//(factorial(j)*factorial(i-j)), end=\" \")\n",
        " \n",
        "    # for new line\n",
        "    print()"
      ],
      "metadata": {
        "colab": {
          "base_uri": "https://localhost:8080/"
        },
        "outputId": "f047ab17-ed1b-4eb2-e7a4-3acac668f8b5",
        "id": "1_kmvaSzmwPL"
      },
      "execution_count": null,
      "outputs": [
        {
          "output_type": "stream",
          "name": "stdout",
          "text": [
            "Enter number: 6\n",
            "       1 \n",
            "      1 1 \n",
            "     1 2 1 \n",
            "    1 3 3 1 \n",
            "   1 4 6 4 1 \n",
            "  1 5 10 10 5 1 \n"
          ]
        }
      ]
    },
    {
      "cell_type": "markdown",
      "source": [
        "#### Answer 2:"
      ],
      "metadata": {
        "id": "liJjMEfsqYiK"
      }
    },
    {
      "cell_type": "code",
      "source": [
        "n = int(input(\"Enter number: \"))\n",
        " \n",
        "for i in range(1, n+1):\n",
        "    for j in range(0, n-i+1):\n",
        "        print(' ', end='')\n",
        " \n",
        "    # first element is always 1\n",
        "    C = 1\n",
        "    for j in range(1, i+1):\n",
        "        # first value in a line is always 1\n",
        "        print(' ', C, sep='', end='')\n",
        " \n",
        "        # using Binomial Coefficient\n",
        "        C = C * (i - j) // j\n",
        "    print()"
      ],
      "metadata": {
        "colab": {
          "base_uri": "https://localhost:8080/"
        },
        "id": "F5tGNZwjqMSg",
        "outputId": "e05bcb6b-d8b4-4163-9aa8-bf65dc5fe13c"
      },
      "execution_count": null,
      "outputs": [
        {
          "output_type": "stream",
          "name": "stdout",
          "text": [
            "Enter number: 6\n",
            "       1\n",
            "      1 1\n",
            "     1 2 1\n",
            "    1 3 3 1\n",
            "   1 4 6 4 1\n",
            "  1 5 10 10 5 1\n"
          ]
        }
      ]
    },
    {
      "cell_type": "markdown",
      "source": [
        "#### Answer 3:"
      ],
      "metadata": {
        "id": "g9dJ5TrCmaRe"
      }
    },
    {
      "cell_type": "code",
      "source": [
        "input_num = int(input(\"Enter the number of rows: \"))\n",
        "\n",
        "list = [] # an empty list\n",
        "for n in range(input_num):\n",
        "    list.append([])\n",
        "    list[n].append(1)\n",
        "    for m in range(1, n):\n",
        "        list[n].append(list[n - 1][m - 1] + list[n - 1][m])\n",
        "    if(input_num != 0):\n",
        "        list[n].append(1)\n",
        "  \n",
        "    for m in range(0, n + 1):\n",
        "        print(list[n][m], end = \" \")\n",
        "    print()\n"
      ],
      "metadata": {
        "id": "6SVr6p_L_PDE",
        "colab": {
          "base_uri": "https://localhost:8080/"
        },
        "outputId": "a8555da3-c913-4393-abb6-48b783b1c3ba"
      },
      "execution_count": null,
      "outputs": [
        {
          "output_type": "stream",
          "name": "stdout",
          "text": [
            "Enter the number of rows: 5\n",
            "1 \n",
            "1 1 \n",
            "1 2 1 \n",
            "1 3 3 1 \n",
            "1 4 6 4 1 \n"
          ]
        }
      ]
    },
    {
      "cell_type": "markdown",
      "source": [
        "#### Answer 4:"
      ],
      "metadata": {
        "id": "yhYGWXhqtCde"
      }
    },
    {
      "cell_type": "code",
      "source": [
        "input_num = int(input(\"Enter the number of rows: \"))\n",
        "previous_row_list = []\n",
        "i = 1\n",
        "\n",
        "while i <= input_num:\n",
        "  new_row_list = []\n",
        "  new_row_list.append(1)\n",
        "  for m in range(1, len(previous_row_list)):\n",
        "    new_row_list.append(previous_row_list[m - 1] + previous_row_list[m])\n",
        "  if(i > 1):\n",
        "      new_row_list.append(1)\n",
        "  print(new_row_list)\n",
        "  previous_row_list = new_row_list\n",
        "  i += 1"
      ],
      "metadata": {
        "colab": {
          "base_uri": "https://localhost:8080/"
        },
        "id": "vZgiicXFs_O1",
        "outputId": "bebad012-6942-46c8-84de-4545afd314aa"
      },
      "execution_count": null,
      "outputs": [
        {
          "output_type": "stream",
          "name": "stdout",
          "text": [
            "Enter the number of rows: 5\n",
            "[1]\n",
            "[1, 1]\n",
            "[1, 2, 1]\n",
            "[1, 3, 3, 1]\n",
            "[1, 4, 6, 4, 1]\n"
          ]
        }
      ]
    },
    {
      "cell_type": "markdown",
      "source": [
        "#### Answer 5:"
      ],
      "metadata": {
        "id": "zj2gblDfm1-Z"
      }
    },
    {
      "cell_type": "code",
      "source": [
        "l=[[1],[1,1]]\n",
        "\n",
        "a=[]\n",
        "\n",
        "n=int(input())\n",
        "\n",
        "if n==1:\n",
        "  print(l[0])\n",
        "elif n==2:\n",
        "  print(l[1])\n",
        "else:\n",
        "  for i in range(2,n):\n",
        "      a = []\n",
        "      for j in range(0,i+1):\n",
        "        if j==0:\n",
        "          a.append(1)\n",
        "        elif j != i:\n",
        "          temp = l[i-1][j-1] + l[i-1][j]\n",
        "          a.append(temp)\n",
        "        else:\n",
        "          a.append(1)\n",
        "\n",
        "      print('a=', a)\n",
        "      l.append(a)\n",
        "    \n",
        "  \n",
        "  print('l=', l)"
      ],
      "metadata": {
        "id": "XbfmfxuKm01W",
        "colab": {
          "base_uri": "https://localhost:8080/"
        },
        "outputId": "15bef4aa-29ca-4ad6-b08a-ab1c4b613098"
      },
      "execution_count": null,
      "outputs": [
        {
          "output_type": "stream",
          "name": "stdout",
          "text": [
            "5\n",
            "a= [1, 2, 1]\n",
            "a= [1, 3, 3, 1]\n",
            "a= [1, 4, 6, 4, 1]\n",
            "l= [[1], [1, 1], [1, 2, 1], [1, 3, 3, 1], [1, 4, 6, 4, 1]]\n"
          ]
        }
      ]
    },
    {
      "cell_type": "markdown",
      "source": [
        "## Question 5:"
      ],
      "metadata": {
        "id": "_sEI7DXvi2mQ"
      }
    },
    {
      "cell_type": "markdown",
      "source": [
        "Write a program that will select a correct number that is not specified in the number of digits, and print every digit to the number of that digit.\n",
        "\n",
        "**Input:**\n",
        "\n",
        "This number will be given to you in a number . The length of the number is smaller than 100.\n",
        "\n",
        "\n",
        "**Output:**\n",
        "\n",
        "For every digit you first printed that number of that digit with ```:```, then print it to the number of that number."
      ],
      "metadata": {
        "id": "8UBO-DwEhJEN"
      }
    },
    {
      "cell_type": "markdown",
      "source": [
        "*Examples*:\n",
        "\n",
        "▶ Sample inputput:\n",
        "\n",
        "```\n",
        "50943\n",
        "```\n",
        "\n",
        "▶ Sample output:\n",
        "\n",
        "```\n",
        "5: 55555\n",
        "0:\n",
        "9: 999999999\n",
        "4: 4444\n",
        "3: 333\n",
        "```"
      ],
      "metadata": {
        "id": "Lkhy56y0i2mV"
      }
    },
    {
      "cell_type": "markdown",
      "source": [
        "#### Answer 1:"
      ],
      "metadata": {
        "id": "Hj4rwQPApqAO"
      }
    },
    {
      "cell_type": "code",
      "source": [
        "n = input('Enter a number: ')\n",
        "\n",
        "for i in n:\n",
        "  print(i, \": \", end=\" \")\n",
        "  for j in range(int(i)):\n",
        "    print(i, end=\"\")\n",
        "  print(\"\\n\")"
      ],
      "metadata": {
        "colab": {
          "base_uri": "https://localhost:8080/"
        },
        "id": "GR09uimOprbN",
        "outputId": "2eb107a7-c4f6-4aa6-b1aa-7f33fae20a3a"
      },
      "execution_count": null,
      "outputs": [
        {
          "output_type": "stream",
          "name": "stdout",
          "text": [
            "Enter a number: 5045\n",
            "5 :  55555\n",
            "\n",
            "0 :  \n",
            "\n",
            "4 :  4444\n",
            "\n",
            "5 :  55555\n",
            "\n"
          ]
        }
      ]
    },
    {
      "cell_type": "markdown",
      "source": [
        "#### Answer 2:"
      ],
      "metadata": {
        "id": "f145tqMitxC_"
      }
    },
    {
      "cell_type": "code",
      "source": [
        "n=int(input())\n",
        "\n",
        "while n%10<=10 and n!=0 :\n",
        "  a=n%10\n",
        "  print(a , \":\" ,end=\" \")\n",
        "  for i in range (0,a):\n",
        "     print(a ,end=\"\")\n",
        "  print('')\n",
        "  n=(n-(n%10))//10"
      ],
      "metadata": {
        "colab": {
          "base_uri": "https://localhost:8080/"
        },
        "id": "eyNpS-7vqPU0",
        "outputId": "c977102d-94a4-4ec7-d56d-6907aa5e2909"
      },
      "execution_count": null,
      "outputs": [
        {
          "output_type": "stream",
          "name": "stdout",
          "text": [
            "6056\n",
            "6 : 666666\n",
            "5 : 55555\n",
            "0 : \n",
            "6 : 666666\n"
          ]
        }
      ]
    },
    {
      "cell_type": "markdown",
      "source": [
        "#### Answer(with def):"
      ],
      "metadata": {
        "id": "MfiXCF9ai2mV"
      }
    },
    {
      "cell_type": "code",
      "source": [
        "def n_times_print (n):\n",
        "  print(n, \": \", end=\" \")\n",
        "  for i in range(n):\n",
        "    print(n, end=\"\")\n",
        "\n",
        "\n",
        "n = input('Enter a number: ')\n",
        "\n",
        "for i in n:\n",
        "  n_times_print(int(i))\n",
        "  print(\"\\n\")"
      ],
      "metadata": {
        "colab": {
          "base_uri": "https://localhost:8080/"
        },
        "outputId": "b3663fc7-8734-427c-e72b-92d873a39cd8",
        "id": "QY4LFmqTi2mV"
      },
      "execution_count": null,
      "outputs": [
        {
          "output_type": "stream",
          "name": "stdout",
          "text": [
            "Enter a number: 567\n",
            "5 :  55555\n",
            "\n",
            "6 :  666666\n",
            "\n",
            "7 :  7777777\n",
            "\n"
          ]
        }
      ]
    },
    {
      "cell_type": "markdown",
      "source": [
        "## Question 6:"
      ],
      "metadata": {
        "id": "ddbv1vmTtiXe"
      }
    },
    {
      "cell_type": "markdown",
      "source": [
        "Write a program that will first receive the number n from the input and then take n numbers from the input and print the max.\n",
        "\n",
        "    1 <= n <= 10\n",
        "\n"
      ],
      "metadata": {
        "id": "sHf_l0DXgKXH"
      }
    },
    {
      "cell_type": "markdown",
      "source": [
        "*Examples*:\n",
        "\n",
        "▶ Sample inputput:\n",
        "\n",
        "```\n",
        "4\n",
        "1 5 6 2\n",
        "```\n",
        "\n",
        "▶ Sample output:\n",
        "\n",
        "```\n",
        "6\n",
        "```"
      ],
      "metadata": {
        "id": "Xm9RagtstiXh"
      }
    },
    {
      "cell_type": "markdown",
      "source": [
        "#### Answer 3:"
      ],
      "metadata": {
        "id": "AgY0ODK7wwLF"
      }
    },
    {
      "cell_type": "code",
      "source": [
        "n=int(input())\n",
        "p=[]\n",
        "for i in range(n):\n",
        "   p.append(int(input()))\n",
        "print(max(p))"
      ],
      "metadata": {
        "id": "T6xuwHUOusCd"
      },
      "execution_count": null,
      "outputs": []
    },
    {
      "cell_type": "markdown",
      "source": [
        "#### Answer 1:"
      ],
      "metadata": {
        "id": "8LQAjmqhtiXh"
      }
    },
    {
      "cell_type": "code",
      "source": [
        "n = int(input(\"Enter the amount of number you want to enter: \"))\n",
        "\n",
        "number = input(\"Enter numbers being separated with space: \")\n",
        "list_str = number.split(\" \")\n",
        "print(list_str)\n",
        "list_number = map(int, list_str)\n",
        "print(\"Max in the list is: \", max(list_number))"
      ],
      "metadata": {
        "colab": {
          "base_uri": "https://localhost:8080/"
        },
        "outputId": "c666b525-c522-459b-96cf-4a80fd0cc7ed",
        "id": "LObmend3tiXh"
      },
      "execution_count": null,
      "outputs": [
        {
          "output_type": "stream",
          "name": "stdout",
          "text": [
            "Enter the amount of number you want to enter: 4\n",
            "Enter numbers being separated with space: 1 2 6 3\n",
            "['1', '2', '6', '3']\n",
            "Max in the list is:  6\n"
          ]
        }
      ]
    },
    {
      "cell_type": "markdown",
      "source": [
        "#### Answer 2:"
      ],
      "metadata": {
        "id": "rlk2EWF1rLOl"
      }
    },
    {
      "cell_type": "code",
      "source": [
        "lst = []\n",
        "n = int(input(\"Enter number of elements : \"))\n",
        "for i in range(0, n):\n",
        "    ele = int(input())\n",
        "    lst.append(ele)\n",
        "    lst.sort()\n",
        "    print(\"Largest element is:\", lst[-1])"
      ],
      "metadata": {
        "id": "9ay7xn2hrKK-",
        "colab": {
          "base_uri": "https://localhost:8080/"
        },
        "outputId": "660b39b3-03ba-4efe-8e9a-5d03d02ecc95"
      },
      "execution_count": null,
      "outputs": [
        {
          "output_type": "stream",
          "name": "stdout",
          "text": [
            "Enter number of elements : 3\n",
            "22\n",
            "Largest element is: 22\n",
            "55\n",
            "Largest element is: 55\n",
            "1\n",
            "Largest element is: 55\n"
          ]
        }
      ]
    },
    {
      "cell_type": "markdown",
      "source": [
        "## Question 7:"
      ],
      "metadata": {
        "id": "AUIXXPx8-r18"
      }
    },
    {
      "cell_type": "markdown",
      "source": [
        "Get the input from user, then show the even numbers that are smaller and equal to the input."
      ],
      "metadata": {
        "id": "a2jwoknC-hVs"
      }
    },
    {
      "cell_type": "markdown",
      "source": [
        "#### Answer 1:"
      ],
      "metadata": {
        "id": "LYFE0WD5pD9Q"
      }
    },
    {
      "cell_type": "code",
      "source": [
        "n=int(input(\"enter input: \"))\n",
        "a=2\n",
        "while a <= n:\n",
        "  print(a)\n",
        "  a=a+2"
      ],
      "metadata": {
        "colab": {
          "base_uri": "https://localhost:8080/"
        },
        "id": "bzmaLscTAu8h",
        "outputId": "d638c732-a1b5-45a8-889d-2ba03db4cb91"
      },
      "execution_count": null,
      "outputs": [
        {
          "output_type": "stream",
          "name": "stdout",
          "text": [
            "enter input: 7\n",
            "2\n",
            "4\n",
            "6\n"
          ]
        }
      ]
    },
    {
      "cell_type": "markdown",
      "source": [
        "#### Answer 2:"
      ],
      "metadata": {
        "id": "3AeKgb0MpIR9"
      }
    },
    {
      "cell_type": "code",
      "source": [
        "n=int(input())\n",
        "i=1\n",
        "if n==1:\n",
        "  print('you are a looser')\n",
        "else:\n",
        " while True:\n",
        "   y=2*i\n",
        "   i=i+1\n",
        "   if y>n:\n",
        "    break\n",
        "   else:\n",
        "     print(y)"
      ],
      "metadata": {
        "id": "kzW-dYymCZ-j"
      },
      "execution_count": null,
      "outputs": []
    },
    {
      "cell_type": "markdown",
      "source": [
        "#### Answer 3:"
      ],
      "metadata": {
        "id": "cEGbG_GRAsF7"
      }
    },
    {
      "cell_type": "code",
      "source": [
        "x = 0\n",
        "n = int(input())\n",
        "\n",
        "while x <= n:\n",
        "    x += 1\n",
        "    if x % 2 == 1:\n",
        "        continue\n",
        "    print(x)"
      ],
      "metadata": {
        "colab": {
          "base_uri": "https://localhost:8080/"
        },
        "id": "gXoTwi-n_Vbd",
        "outputId": "50bd61cd-8572-4031-f9f1-ade8b40e477c"
      },
      "execution_count": null,
      "outputs": [
        {
          "output_type": "stream",
          "name": "stdout",
          "text": [
            "7\n",
            "2\n",
            "4\n",
            "6\n",
            "8\n"
          ]
        }
      ]
    }
  ]
}