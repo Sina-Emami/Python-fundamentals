{
  "nbformat": 4,
  "nbformat_minor": 0,
  "metadata": {
    "colab": {
      "name": "2_Conditions.ipynb",
      "provenance": [],
      "collapsed_sections": [
        "Gq4Jne-nrPnI",
        "iNJQijfxF7wD",
        "l7lQ2jjaGMqS",
        "KdRkrTqzGQ0R",
        "5UIaITj-GZIh",
        "nyTDUvsYGqiI",
        "RLS5O5gIGjwq",
        "zBLwgITjB5y0",
        "uivcKqR8CKeM",
        "R4Ld46lWreTN",
        "WMKZrchFyVIn",
        "33fg0o_cysju",
        "BjB4rYIvywDu",
        "O8s_sH52yyL2",
        "S0G8LXOoyzGu",
        "xUWjZ6vsy7wF",
        "V5VHzkZzy8et",
        "320nGvEZ_HFz",
        "gBiZNTcN_Psc",
        "Zz354Svj_dxs",
        "rkFFkEMk7vTD",
        "NpJzh2vh6sd1",
        "pHMBxpyV6lrl",
        "azOAmYOq7kIC",
        "oKTK7X8c7qfJ"
      ]
    },
    "kernelspec": {
      "name": "python3",
      "display_name": "Python 3"
    },
    "language_info": {
      "name": "python"
    }
  },
  "cells": [
    {
      "cell_type": "markdown",
      "source": [
        "# **If ... Else** "
      ],
      "metadata": {
        "id": "Gq4Jne-nrPnI"
      }
    },
    {
      "cell_type": "markdown",
      "source": [
        "## **If :**"
      ],
      "metadata": {
        "id": "iNJQijfxF7wD"
      }
    },
    {
      "cell_type": "markdown",
      "source": [
        "The if command will lead the program to different paths according to the condition that follows. That is, if the condition is correct, the instructions on the box will be executed; otherwise the instructions will be carried out."
      ],
      "metadata": {
        "id": "BTvLqVDkE1sV"
      }
    },
    {
      "cell_type": "markdown",
      "source": [
        "  **if structure:**\n",
        "  \n",
        "    if condition:\n",
        "       # statement\n",
        "       pass"
      ],
      "metadata": {
        "id": "wEykSUx8DdQx"
      }
    },
    {
      "cell_type": "code",
      "source": [
        "a = 33\n",
        "b = 20\n",
        "if b > a:\n",
        "  print(\"b is greater than a\")"
      ],
      "metadata": {
        "id": "Y_C6cLa9E2gO"
      },
      "execution_count": null,
      "outputs": []
    },
    {
      "cell_type": "markdown",
      "source": [
        "## **Elif:**"
      ],
      "metadata": {
        "id": "l7lQ2jjaGMqS"
      }
    },
    {
      "cell_type": "markdown",
      "source": [
        "\n",
        "\n",
        "The word is summery of the `else if`.\n",
        "\n",
        "The elif keyword is pythons way of saying \"if the previous conditions were not true, then try this condition\"."
      ],
      "metadata": {
        "id": "-FQq-2wKER8Y"
      }
    },
    {
      "cell_type": "markdown",
      "source": [
        "  **elif structure:**\n",
        "\n",
        "    if condition1:\n",
        "      # condition1 is true\n",
        "      pass\n",
        "    elif condition2:\n",
        "      # condition1 is false and condition2 is true\n",
        "      pass"
      ],
      "metadata": {
        "id": "FfsmoKcMElFG"
      }
    },
    {
      "cell_type": "code",
      "source": [
        "a = 33\n",
        "b = 33\n",
        "if b > a:\n",
        "  print(\"b is greater than a\")\n",
        "elif a == b:\n",
        "  print(\"a and b are equal\")"
      ],
      "metadata": {
        "colab": {
          "base_uri": "https://localhost:8080/"
        },
        "id": "4QhqHg7_Ewd9",
        "outputId": "1f72e6a6-1186-4042-ef50-054580647955"
      },
      "execution_count": null,
      "outputs": [
        {
          "output_type": "stream",
          "name": "stdout",
          "text": [
            "a and b are equal\n"
          ]
        }
      ]
    },
    {
      "cell_type": "markdown",
      "source": [
        "## **Else:**"
      ],
      "metadata": {
        "id": "KdRkrTqzGQ0R"
      }
    },
    {
      "cell_type": "markdown",
      "source": [
        "\n",
        "\n",
        "The else keyword catches anything which isn't caught by the preceding conditions."
      ],
      "metadata": {
        "id": "XeQhSOOHD5t4"
      }
    },
    {
      "cell_type": "markdown",
      "source": [
        "  **else structure:**\n",
        "\n",
        "    if condition:\n",
        "      # condition is true\n",
        "      pass\n",
        "    else:\n",
        "      # condition is false (Not true)\n",
        "      pass"
      ],
      "metadata": {
        "id": "PnY9h9ySECg3"
      }
    },
    {
      "cell_type": "code",
      "source": [
        "a = 200\n",
        "b = 33\n",
        "if b > a:\n",
        "  print(\"b is greater than a\")\n",
        "elif a == b:\n",
        "  print(\"a and b are equal\")\n",
        "else:\n",
        "  print(\"a is greater than b\")"
      ],
      "metadata": {
        "colab": {
          "base_uri": "https://localhost:8080/"
        },
        "id": "3DueKNREE8xU",
        "outputId": "751df6ad-4835-4159-a46e-4dd49be4dad3"
      },
      "execution_count": null,
      "outputs": [
        {
          "output_type": "stream",
          "name": "stdout",
          "text": [
            "a is greater than b\n"
          ]
        }
      ]
    },
    {
      "cell_type": "markdown",
      "source": [
        "## **Short Hand :**"
      ],
      "metadata": {
        "id": "5UIaITj-GZIh"
      }
    },
    {
      "cell_type": "markdown",
      "source": [
        "### **Short Hand If :**"
      ],
      "metadata": {
        "id": "nyTDUvsYGqiI"
      }
    },
    {
      "cell_type": "markdown",
      "source": [
        "If you have only one statement to execute, you can put it on the same line as the if statement."
      ],
      "metadata": {
        "id": "42KgBi5dGwoR"
      }
    },
    {
      "cell_type": "code",
      "source": [
        "a = 200\n",
        "b = 33\n",
        "if a > b: print(\"a is greater than b\")"
      ],
      "metadata": {
        "colab": {
          "base_uri": "https://localhost:8080/"
        },
        "id": "LhRD3p1RGzcR",
        "outputId": "2e82e1b8-0b3c-4c88-b37d-0fab331fb477"
      },
      "execution_count": null,
      "outputs": [
        {
          "output_type": "stream",
          "name": "stdout",
          "text": [
            "a is greater than b\n"
          ]
        }
      ]
    },
    {
      "cell_type": "markdown",
      "source": [
        "### **Short Hand If ... Else :**"
      ],
      "metadata": {
        "id": "RLS5O5gIGjwq"
      }
    },
    {
      "cell_type": "markdown",
      "source": [
        "If you have only one statement to execute, one for if, and one for else, you can put it all on the same line:"
      ],
      "metadata": {
        "id": "_bdkAr30G8TR"
      }
    },
    {
      "cell_type": "code",
      "source": [
        "a = 400\n",
        "b = 330\n",
        "\n",
        "print(\"A\") if a > b else print(\"B\")"
      ],
      "metadata": {
        "colab": {
          "base_uri": "https://localhost:8080/"
        },
        "id": "5qIgyR8EG5I6",
        "outputId": "aeb7a7f9-5d91-4f73-93e9-970bfe387051"
      },
      "execution_count": null,
      "outputs": [
        {
          "output_type": "stream",
          "name": "stdout",
          "text": [
            "A\n"
          ]
        }
      ]
    },
    {
      "cell_type": "markdown",
      "source": [
        "## **Question**:"
      ],
      "metadata": {
        "id": "zBLwgITjB5y0"
      }
    },
    {
      "cell_type": "markdown",
      "source": [
        "Jack , who has a lot of perseverance , was at first a waiter. He should have known the situation in the samovar at any moment . That was why he was measuring the water with a thermometer at the samovar , and looking at the water temperature in the samovar . We know that water in normal pressure evaporates at temperatures of over 100 degrees and freezes at less than 0 . ( In wintertime , water can ice in the samovar ) , you know , you have to be persistent in success . So sooner or later , you have to decide to proceed . You need to set the water in the samovar , depending on the temperature in the samovar.\n",
        "\n",
        "    -273 < T <= 6000\n",
        "\n",
        "If the temperature inside the samovar was more than 100 degrees , then print ```steam``` , if the temperature was below 0 , the ```ice``` should be printed and put in ```Water```."
      ],
      "metadata": {
        "id": "6i7s6-j5Nk3z"
      }
    },
    {
      "cell_type": "markdown",
      "source": [
        "*Examples*:\n",
        "\n",
        "▶ Sample inputput 1:\n",
        "\n",
        "```\n",
        "110\n",
        "```\n",
        "\n",
        "▶ Sample output 1:\n",
        "\n",
        "```\n",
        "Steam\n",
        "```\n",
        "\n",
        "▶ Sample inputput 2:\n",
        "\n",
        "```\n",
        "100\n",
        "```\n",
        "\n",
        "▶ Sample output 2:\n",
        "\n",
        "```\n",
        "Water\n",
        "```\n",
        "\n",
        "▶ Sample inputput 3:\n",
        "\n",
        "```\n",
        "-200\n",
        "```\n",
        "\n",
        "▶ Sample output 3:\n",
        "\n",
        "```\n",
        "Ice\n",
        "```"
      ],
      "metadata": {
        "id": "MF_4D3X0CPwk"
      }
    },
    {
      "cell_type": "markdown",
      "source": [
        "#### Answer 1:"
      ],
      "metadata": {
        "id": "uivcKqR8CKeM"
      }
    },
    {
      "cell_type": "code",
      "source": [
        "t = int(input())\n",
        "\n",
        "if t < -273 or t > 6000:\n",
        "    print(\"error\")\n",
        "elif t > 100:\n",
        "    print(\"Steam\")\n",
        "elif t < 0:\n",
        "    print(\"Ice\")\n",
        "else:\n",
        "    print(\"Water\")"
      ],
      "metadata": {
        "colab": {
          "base_uri": "https://localhost:8080/"
        },
        "id": "GcYHJWQyCB0k",
        "outputId": "c74870a9-cd4e-4420-fde1-d8450986e066"
      },
      "execution_count": null,
      "outputs": [
        {
          "output_type": "stream",
          "name": "stdout",
          "text": [
            "5\n",
            "Water\n"
          ]
        }
      ]
    },
    {
      "cell_type": "markdown",
      "source": [
        "#### Answer 2:"
      ],
      "metadata": {
        "id": "4lwHto0c_olT"
      }
    },
    {
      "cell_type": "code",
      "source": [
        "n = input()\n",
        "print(n)\n",
        "n = int(n)\n",
        "if n >= 100:\n",
        "  print(\"steam\")\n",
        "elif 0 <= n <100:\n",
        "  print(\"water\")\n",
        "else:\n",
        "  print(\"ice\")"
      ],
      "metadata": {
        "colab": {
          "base_uri": "https://localhost:8080/"
        },
        "id": "Ct608lPtLtqJ",
        "outputId": "81d7cd1c-2a58-4fb6-ebdc-67b62b1329ed"
      },
      "execution_count": null,
      "outputs": [
        {
          "output_type": "stream",
          "name": "stdout",
          "text": [
            "-170\n",
            "-170\n",
            "ice\n"
          ]
        }
      ]
    },
    {
      "cell_type": "markdown",
      "source": [
        "# **Operators** "
      ],
      "metadata": {
        "id": "R4Ld46lWreTN"
      }
    },
    {
      "cell_type": "markdown",
      "source": [
        "Operators are used to perform operations on variables and values."
      ],
      "metadata": {
        "id": "YAievTVEri6M"
      }
    },
    {
      "cell_type": "markdown",
      "source": [
        "## ***Arithmetic Operators:***"
      ],
      "metadata": {
        "id": "WMKZrchFyVIn"
      }
    },
    {
      "cell_type": "markdown",
      "source": [
        "Arithmetic operators are used with numeric values to perform common mathematical operations:"
      ],
      "metadata": {
        "id": "-bHaDdbQyaCG"
      }
    },
    {
      "cell_type": "code",
      "source": [
        "a = 10\n",
        "b = 20\n",
        "\n",
        "# Adds values on either side of the operator\n",
        "print('+ Addition: (a + b => 10 + 20 = 30)', a + b)\n",
        "\n",
        "# Subtracts right hand operand from left hand operand.\n",
        "print('- Subtraction: (a – b => 10 - 20 = -10)', a - b)\n",
        "\n",
        "# Multiplies values on either side of the operator\n",
        "print('/ Division: (a * b => 10 * 20 = 200)', a * b)\n",
        "\n",
        "# Divides left hand operand by right hand operand and returns remainder\n",
        "print('% Modulus: (b % a => 20 % 10 = 0)', b % a)\n",
        "\n",
        "# Performs exponential (power) calculation on operators\n",
        "print('** Exponent (a**b => 10 to the power 20): ', a ** b)\n",
        "\n",
        "a = 9\n",
        "b = 2\n",
        "print('// : (a // b => 9//2 = 4)', a // b) # Floor Division\n",
        "# The division of operands where the result is the quotient in which \n",
        "# the digits after the decimal point are removed. \n",
        "# But if one of the operands is negative, the result is floored, i.e., \n",
        "# rounded away from zero"
      ],
      "metadata": {
        "colab": {
          "base_uri": "https://localhost:8080/"
        },
        "id": "KgzK3bykBgLl",
        "outputId": "dbea05f1-095a-4c8d-fbf5-46ebccb8e369"
      },
      "execution_count": null,
      "outputs": [
        {
          "output_type": "stream",
          "name": "stdout",
          "text": [
            "+ Addition: (a + b => 10 + 20 = 30) 30\n",
            "- Subtraction: (a – b => 10 - 20 = -10) -10\n",
            "/ Division: (a * b => 10 * 20 = 200) 200\n",
            "% Modulus: (b % a => 20 % 10 = 0) 0\n",
            "** Exponent (a**b => 10 to the power 20):  100000000000000000000\n",
            "// : (a // b => 9//2 = 4) 4\n"
          ]
        }
      ]
    },
    {
      "cell_type": "markdown",
      "source": [
        "## ***Assignment Operators:***"
      ],
      "metadata": {
        "id": "33fg0o_cysju"
      }
    },
    {
      "cell_type": "markdown",
      "source": [
        "Assignment operators are used to assign values to variables:"
      ],
      "metadata": {
        "id": "oji4XLQXzDbW"
      }
    },
    {
      "cell_type": "code",
      "source": [
        "a = 21\n",
        "b = 10\n",
        "c = 0\n",
        "\n",
        "# =\n",
        "# Assigns values from right side operands to left side operand\n",
        "c = a + b\n",
        "print(\"c = a + b - Value of c is \", c)\n",
        "\n",
        "# += Add AND\n",
        "# It adds right operand to the left operand and assign the result to left operand\n",
        "c += a  # c = c + a\n",
        "print(\"c += a - Value of c is \", c)\n",
        "\n",
        "# *= Multiply AND\n",
        "# It multiplies right operand with the left operand and assign the result to left operand\n",
        "c *= a # c = C * a\n",
        "print(\"c *= a - Value of c is \", c)\n",
        "\n",
        "# /= Divide AND\n",
        "# It takes modulus using two operands and assign the result to left operand\n",
        "c /= a \n",
        "print(\"c /= a - Value of c is \", c)\n",
        "\n",
        "# %= Modulus AND\n",
        "# It takes modulus using two operands and assign the result to left operand\n",
        "c  = 2\n",
        "c %= a # c = c % a\n",
        "print(\"c %= a - Value of c is \", c)\n",
        "\n",
        "# **= Exponent AND\n",
        "# Performs exponential (power) calculation on operators and assign value to the left operand\n",
        "c **= a\n",
        "print(\"c **= a - Value of c is \", c)\n",
        "\n",
        "# //= Floor Division\n",
        "# It performs floor division on operators and assign value to the left operand\n",
        "c //= a\n",
        "print(\"c //= a - Value of c is \", c)"
      ],
      "metadata": {
        "colab": {
          "base_uri": "https://localhost:8080/"
        },
        "id": "S-0bBcKfFi4m",
        "outputId": "1a5b4335-8699-490c-a2fc-70c44bb8c74c"
      },
      "execution_count": null,
      "outputs": [
        {
          "output_type": "stream",
          "name": "stdout",
          "text": [
            "c = a + b - Value of c is  31\n",
            "c += a - Value of c is  52\n",
            "c *= a - Value of c is  1092\n",
            "c /= a - Value of c is  52.0\n",
            "c %= a - Value of c is  2\n",
            "c **= a - Value of c is  2097152\n",
            "c //= a - Value of c is  99864\n"
          ]
        }
      ]
    },
    {
      "cell_type": "markdown",
      "source": [
        "## ***Comparison Operators:***"
      ],
      "metadata": {
        "id": "BjB4rYIvywDu"
      }
    },
    {
      "cell_type": "markdown",
      "source": [
        "These operators compare the values on either sides of them and decide the relation among them. They are also called Relational operators."
      ],
      "metadata": {
        "id": "AJ9aZwCYzHfN"
      }
    },
    {
      "cell_type": "code",
      "source": [
        "a = 21\n",
        "b = 10\n",
        "c = 0\n",
        "\n",
        "# ==\n",
        "# If the values of two operands are equal, then the condition becomes true\n",
        "if ( a == b ):\n",
        "   print(\"Line 1 - a is equal to b\")\n",
        "else:\n",
        "   print (\"Line 1 - a is not equal to b\")\n",
        "\n",
        "# !=\n",
        "# If values of two operands are not equal, then condition becomes true\n",
        "if ( a != b ):\n",
        "   print (\"Line 2 - a is not equal to b\")\n",
        "else:\n",
        "   print (\"Line 2 - a is equal to b\")\n",
        "\n",
        "# >\n",
        "# If the value of left operand is greater than the value of right operand, \n",
        "# then condition becomes true\n",
        "if ( a < b ):\n",
        "   print (\"Line 4 - a is less than b\")\n",
        "else:\n",
        "   print (\"Line 4 - a is not less than b\")\n",
        "\n",
        "# <\n",
        "# If the value of left operand is less than the value of right operand, \n",
        "# then condition becomes true\n",
        "if ( a > b ):\n",
        "   print (\"Line 5 - a is greater than b\")\n",
        "else:\n",
        "   print (\"Line 5 - a is not greater than b\")\n",
        "\n",
        "a = 5\n",
        "b = 20\n",
        "# >=\n",
        "# If the value of left operand is greater than or equal to the value of \n",
        "# right operand, then condition becomes true\n",
        "if ( a <= b ):\n",
        "   print (\"Line 6 - a is either less than or equal to  b\")\n",
        "else:\n",
        "   print (\"Line 6 - a is neither less than nor equal to  b\")\n",
        "\n",
        "# <=\n",
        "# If the value of left operand is less than or equal to the value of \n",
        "# right operand, then condition becomes true\n",
        "if ( b >= a ):\n",
        "   print (\"Line 7 - b is either greater than  or equal to b\")\n",
        "else:\n",
        "   print (\"Line 7 - b is neither greater than  nor equal to b\")"
      ],
      "metadata": {
        "colab": {
          "base_uri": "https://localhost:8080/"
        },
        "id": "0En2UElzEAIg",
        "outputId": "ec16fae5-1e50-40a9-9c5b-e68cf615b815"
      },
      "execution_count": null,
      "outputs": [
        {
          "output_type": "stream",
          "name": "stdout",
          "text": [
            "Line 1 - a is not equal to b\n",
            "Line 2 - a is not equal to b\n",
            "Line 4 - a is not less than b\n",
            "Line 5 - a is greater than b\n",
            "Line 6 - a is either less than or equal to  b\n",
            "Line 7 - b is either greater than  or equal to b\n"
          ]
        }
      ]
    },
    {
      "cell_type": "markdown",
      "source": [
        "## ***Logical Operators:***"
      ],
      "metadata": {
        "id": "O8s_sH52yyL2"
      }
    },
    {
      "cell_type": "markdown",
      "source": [
        "Logical operators are used to combine conditional statements:"
      ],
      "metadata": {
        "id": "EiaAzApOzJfP"
      }
    },
    {
      "cell_type": "markdown",
      "source": [
        "**`and` Logical AND:**\n",
        "> If both the operands are true then condition becomes true.\n",
        "\n",
        "\n",
        "```\n",
        "▶ (a and b) is true.\n",
        "```\n",
        "\n",
        "**`or` Logical OR:**\n",
        "> If any of the two operands are non-zero then condition becomes true.\n",
        "\n",
        "\n",
        "```\n",
        "▶ (a or b) is true.\n",
        "```\n",
        "\n",
        "**`not` Logical NOT:**\n",
        "> Used to reverse the logical state of its operand.\n",
        "\n",
        "\n",
        "```\n",
        "▶ Not(a and b) is false.\n",
        "```\n",
        "\n"
      ],
      "metadata": {
        "id": "a2WHZ3vCHKkU"
      }
    },
    {
      "cell_type": "markdown",
      "source": [
        "## ***Identity Operators:***"
      ],
      "metadata": {
        "id": "S0G8LXOoyzGu"
      }
    },
    {
      "cell_type": "markdown",
      "source": [
        "Identity operators are used to compare the objects, not if they are equal, but if they are actually the same object, with the same memory location:"
      ],
      "metadata": {
        "id": "J1zqT1JVzLZF"
      }
    },
    {
      "cell_type": "code",
      "source": [
        "a = 20\n",
        "b = 20\n",
        "\n",
        "# is\n",
        "# Evaluates to true if the variables on either side of the operator point to \n",
        "# the same object and false otherwise\n",
        "if ( a is b ):\n",
        "   print(\"a is b? - a and b have same identity\")\n",
        "else:\n",
        "   print(\"a is b? - a and b do not have same identity\")\n",
        "\n",
        "if ( id(a) == id(b) ):\n",
        "   print(\"id(a) == id(b)? - a and b have same identity\")\n",
        "else:\n",
        "   print(\"id(a) == id(b)? - a and b do not have same identity\")\n",
        "\n",
        "b = 30\n",
        "if ( a is b ):\n",
        "   print(\"a is b? - a and b have same identity\")\n",
        "else:\n",
        "   print(\"a is b? - a and b do not have same identity\")\n",
        "\n",
        "# is not\n",
        "# Evaluates to false if the variables on either side of the operator point to \n",
        "# the same object and true otherwise\n",
        "if ( a is not b ):\n",
        "   print(\"a is not b? - a and b do not have same identity\")\n",
        "else:\n",
        "   print(\"a is not b? - a and b have same identity\")"
      ],
      "metadata": {
        "colab": {
          "base_uri": "https://localhost:8080/"
        },
        "id": "-4ZnMjqyMYiQ",
        "outputId": "b9921349-56e3-46b7-b912-52dc8e381ab1"
      },
      "execution_count": null,
      "outputs": [
        {
          "output_type": "stream",
          "name": "stdout",
          "text": [
            "a is b? - a and b have same identity\n",
            "id(a) == id(b)? - a and b have same identity\n",
            "a is b? - a and b do not have same identity\n",
            "a is not b? - a and b do not have same identity\n"
          ]
        }
      ]
    },
    {
      "cell_type": "markdown",
      "source": [
        "## ***Membership Operators:***"
      ],
      "metadata": {
        "id": "xUWjZ6vsy7wF"
      }
    },
    {
      "cell_type": "markdown",
      "source": [
        "Membership operators are used to test if a sequence is presented in an object:"
      ],
      "metadata": {
        "id": "A_pB5fjWzNUc"
      }
    },
    {
      "cell_type": "code",
      "source": [
        "a = 10\n",
        "b = 20\n",
        "list = [1, 2, 3, 4, 5 ];\n",
        "\n",
        "# in\n",
        "# Evaluates to true if it finds a variable in the specified sequence and false \n",
        "# otherwise\n",
        "if ( a in list ):\n",
        "   print(\"a in list? - a is available in the given list\")\n",
        "else:\n",
        "   print(\"a in list? - a is not available in the given list\")\n",
        "\n",
        "# not in\n",
        "# Evaluates to true if it does not finds a variable in the specified sequence \n",
        "# and false otherwise\n",
        "if ( b not in list ):\n",
        "   print(\"b not in list? - b is not available in the given list\")\n",
        "else:\n",
        "   print(\"b not in list? - b is available in the given list\")\n",
        "\n",
        "a = 2\n",
        "if ( a in list ):\n",
        "   print(\"a in list? - a is available in the given list\")\n",
        "else:\n",
        "   print(\"a in list? - a is not available in the given list\")"
      ],
      "metadata": {
        "colab": {
          "base_uri": "https://localhost:8080/"
        },
        "id": "eWN3Uqo_LsWY",
        "outputId": "b78c3e45-6d70-4bb8-cc11-791eb3abb113"
      },
      "execution_count": null,
      "outputs": [
        {
          "output_type": "stream",
          "name": "stdout",
          "text": [
            "a in list? - a is not available in the given list\n",
            "b not in list? - b is not available in the given list\n",
            "a in list? - a is available in the given list\n"
          ]
        }
      ]
    },
    {
      "cell_type": "markdown",
      "source": [
        "## ***Bitwise Operators:***"
      ],
      "metadata": {
        "id": "V5VHzkZzy8et"
      }
    },
    {
      "cell_type": "markdown",
      "source": [
        "Bitwise operators are used to compare (binary) numbers.\n",
        "Bitwise operator works on bits and performs bit by bit operation. Assume if a = 60; and b = 13; Now in the binary format their values will be 0011 1100 and 0000 1101 respectively. Following table lists out the bitwise operators supported by Python language with an example each in those, we use the above two variables (a and b) as operands −\n",
        "\n",
        "a = 0011 1100\n",
        "\n",
        "b = 0000 1101\n",
        "\n",
        "-----------------\n",
        "\n",
        "a&b = 0000 1100\n",
        "\n",
        "a|b = 0011 1101\n",
        "\n",
        "a^b = 0011 0001\n",
        "\n",
        "~a  = 1100 0011"
      ],
      "metadata": {
        "id": "MOVhMk46z9sc"
      }
    },
    {
      "cell_type": "code",
      "source": [
        "a = 60            # 60 = 0011 1100 \n",
        "b = 13            # 13 = 0000 1101 \n",
        "c = 0\n",
        "\n",
        "# & Binary AND\n",
        "# Operator copies a bit to the result if it exists in both operands\n",
        "c = a & b       # 12 = 0000 1100\n",
        "print(\"c = a & b - Value of c is \", c)\n",
        "\n",
        "# | Binary OR\n",
        "# It copies a bit if it exists in either operand\n",
        "c = a | b        # 61 = 0011 1101 \n",
        "print(\"c = a | b - Value of c is \", c)\n",
        "\n",
        "# ^ Binary XOR\n",
        "# It copies the bit if it is set in one operand but not both\n",
        "c = a ^ b        # 49 = 0011 0001\n",
        "print(\"c = a ^ b - Value of c is \", c)\n",
        "\n",
        "# ~ Binary Ones Complement\n",
        "# It is unary and has the effect of 'flipping' bits\n",
        "c = ~a           # -61 = 1100 0011\n",
        "print(\"c = ~a - Value of c is \", c)\n",
        "\n",
        "# << Binary Left Shift\n",
        "# The left operands value is moved left by the number of bits specified by \n",
        "# the right operand\n",
        "c = a << 2       # 240 = 1111 0000\n",
        "print(\"c = a << 2 - Value of c is \", c)\n",
        "\n",
        "# >> Binary Right Shift\n",
        "# The left operands value is moved right by the number of bits specified by \n",
        "# the right operand\n",
        "c = a >> 2       # 15 = 0000 1111\n",
        "print(\"c = a >> 2 - Value of c is \", c)"
      ],
      "metadata": {
        "colab": {
          "base_uri": "https://localhost:8080/"
        },
        "id": "gF5V2M0tKXQM",
        "outputId": "58860777-ae3e-44fb-8257-95a8a7c41967"
      },
      "execution_count": null,
      "outputs": [
        {
          "output_type": "stream",
          "name": "stdout",
          "text": [
            "c = a & b - Value of c is  12\n",
            "c = a | b - Value of c is  61\n",
            "c = a ^ b - Value of c is  49\n",
            "c = ~a - Value of c is  -61\n",
            "c = a << 2 - Value of c is  240\n",
            "c = a >> 2 - Value of c is  15\n"
          ]
        }
      ]
    },
    {
      "cell_type": "markdown",
      "source": [
        "## ***Math library:***"
      ],
      "metadata": {
        "id": "JRIeaI2E28pd"
      }
    },
    {
      "cell_type": "markdown",
      "source": [
        "Python has a built-in module that you can use for mathematical tasks.\n",
        "\n",
        "The math module has a set of methods and constants."
      ],
      "metadata": {
        "id": "mXzs3AjL73nb"
      }
    },
    {
      "cell_type": "markdown",
      "source": [
        "### ***Numeric Functions:***"
      ],
      "metadata": {
        "id": "320nGvEZ_HFz"
      }
    },
    {
      "cell_type": "code",
      "source": [
        "import math\n",
        "from math import factorial, ceil\n",
        "\n",
        "x = 3.66\n",
        "\n",
        "# Return the ceiling of x, the smallest integer greater than or equal to x\n",
        "print('ceil of x is: ', ceil(x))\n",
        "\n",
        "# Return the floor of x, the largest integer less than or equal to x.\n",
        "print('floor of x is: ', math.floor(x))\n",
        "\n",
        "# Using the factorial() function we can find the factorial of a number in a \n",
        "# single line of the code. \n",
        "# An error message is displayed if number is not integral.\n",
        "a = 5 \n",
        "# returning the factorial of 5\n",
        "print(\"The factorial of 5 is : \", end=\"\")\n",
        "print(fff(a))\n",
        "\n",
        "# gcd() function is used to find the greatest common divisor of two numbers \n",
        "# passed as the arguments. \n",
        "a = 15\n",
        "b = 5\n",
        "# returning the gcd of 15 and 5\n",
        "print (\"The gcd of 5 and 15 is : \", end=\"\")\n",
        "print (math.gcd(b, a))\n",
        "\n",
        "# fabs() function returns the absolute value of the number\n",
        "a = -10\n",
        "# returning the absolute value.\n",
        "print (\"The absolute value of -10 is : \", end=\"\")\n",
        "print (math.fabs(a))"
      ],
      "metadata": {
        "colab": {
          "base_uri": "https://localhost:8080/"
        },
        "id": "CHYUmWuC3AWe",
        "outputId": "ad4512ec-f995-47c5-9e0b-e6e2bc1cff6e"
      },
      "execution_count": null,
      "outputs": [
        {
          "output_type": "stream",
          "name": "stdout",
          "text": [
            "ceil of x is:  4\n",
            "floor of x is:  3\n",
            "The factorial of 5 is : 120\n",
            "The gcd of 5 and 15 is : 5\n",
            "The absolute value of -10 is : 10.0\n"
          ]
        }
      ]
    },
    {
      "cell_type": "markdown",
      "source": [
        "### ***Logarithmic and Power Functions:***"
      ],
      "metadata": {
        "id": "gBiZNTcN_Psc"
      }
    },
    {
      "cell_type": "markdown",
      "source": [
        "**Finding the power of exp**\n",
        "\n",
        "`exp()` method is used to calculate the power of e i.e. e^y or we can say exponential of y."
      ],
      "metadata": {
        "id": "Y5CaEFDeALch"
      }
    },
    {
      "cell_type": "code",
      "source": [
        "import math\n",
        "\n",
        "test_int = 4\n",
        "test_neg_int = -3\n",
        "test_float = 0.00\n",
        "\n",
        "# checking exp() values\n",
        "# with different numbers\n",
        "print (math.exp(test_int))\n",
        "print (math.exp(test_neg_int))\n",
        "print (math.exp(test_float))"
      ],
      "metadata": {
        "colab": {
          "base_uri": "https://localhost:8080/"
        },
        "id": "J7lj_DQQ_j7s",
        "outputId": "6a9811af-78ce-4132-8c78-65c0e7acf81e"
      },
      "execution_count": null,
      "outputs": [
        {
          "output_type": "stream",
          "name": "stdout",
          "text": [
            "54.598150033144236\n",
            "0.049787068367863944\n",
            "1.0\n"
          ]
        }
      ]
    },
    {
      "cell_type": "markdown",
      "source": [
        "**Finding the power of a number**\n",
        "\n",
        "`pow()` function computes x**y. This function first converts its arguments into float and then computes the power."
      ],
      "metadata": {
        "id": "lFrHO71wATtw"
      }
    },
    {
      "cell_type": "code",
      "source": [
        "import math\n",
        "\n",
        "print (\"The value of 3**4 is : \",end=\"\")\n",
        "\n",
        "# Returns 81\n",
        "print (pow(3,4))"
      ],
      "metadata": {
        "colab": {
          "base_uri": "https://localhost:8080/"
        },
        "id": "69IZIDPiAXm5",
        "outputId": "bc578e12-f555-4303-f839-2ffde02fb63f"
      },
      "execution_count": null,
      "outputs": [
        {
          "output_type": "stream",
          "name": "stdout",
          "text": [
            "The value of 3**4 is : 81\n"
          ]
        }
      ]
    },
    {
      "cell_type": "markdown",
      "source": [
        "**Finding the Logarithm**\n",
        "\n",
        "`log()` function returns the logarithmic value of a with base b. If the base is not mentioned, the computed value is of the natural log.\n",
        "\n",
        "`log2(a)` function computes value of log a with base 2. This value is more accurate than the value of the function discussed above.\n",
        "\n",
        "`log10(a)` function computes value of log a with base 10. This value is more accurate than the value of the function discussed above."
      ],
      "metadata": {
        "id": "X9EExiwtAgW3"
      }
    },
    {
      "cell_type": "code",
      "source": [
        "import math\n",
        " \n",
        "# returning the log of 2,3\n",
        "print (\"The value of log 2 with base 3 is : \", end=\"\")\n",
        "print (math.log(2,3))\n",
        " \n",
        "# returning the log2 of 16\n",
        "print (\"The value of log2 of 16 is : \", end=\"\")\n",
        "print (math.log2(16))\n",
        "    \n",
        "# returning the log10 of 10000\n",
        "print (\"The value of log10 of 10000 is : \", end=\"\")\n",
        "print (math.log10(10000))"
      ],
      "metadata": {
        "colab": {
          "base_uri": "https://localhost:8080/"
        },
        "id": "3JBv7FldAonH",
        "outputId": "926e5eca-d38d-4ae6-9408-f900c9a919bf"
      },
      "execution_count": null,
      "outputs": [
        {
          "output_type": "stream",
          "name": "stdout",
          "text": [
            "The value of log 2 with base 3 is : 0.6309297535714574\n",
            "The value of log2 of 16 is : 4.0\n",
            "The value of log10 of 10000 is : 4.0\n"
          ]
        }
      ]
    },
    {
      "cell_type": "markdown",
      "source": [
        "**Finding the Square root**\n",
        "\n",
        "`sqrt()` function returns the square root of the number."
      ],
      "metadata": {
        "id": "lq5cQdljAswv"
      }
    },
    {
      "cell_type": "code",
      "source": [
        "import math\n",
        " \n",
        "# print the square root of 0\n",
        "print(math.sqrt(0))\n",
        " \n",
        "# print the square root of 4\n",
        "print(math.sqrt(4))\n",
        " \n",
        "# print the square root of 3.5\n",
        "print(math.sqrt(3.5))"
      ],
      "metadata": {
        "colab": {
          "base_uri": "https://localhost:8080/"
        },
        "id": "f7-j0d6XA1Eo",
        "outputId": "fc74b42c-c6d0-4552-823a-08980e3f1fd4"
      },
      "execution_count": null,
      "outputs": [
        {
          "output_type": "stream",
          "name": "stdout",
          "text": [
            "0.0\n",
            "2.0\n",
            "1.8708286933869707\n"
          ]
        }
      ]
    },
    {
      "cell_type": "markdown",
      "source": [
        "### ***Trigonometric and Angular Functions:***"
      ],
      "metadata": {
        "id": "Zz354Svj_dxs"
      }
    },
    {
      "cell_type": "markdown",
      "source": [
        "**Finding sine, cosine, and tangent**\n",
        "\n",
        "`sin()`, `cos()`, and` tan()` functions returns the sine, cosine, and tangent of value passed as the argument. The value passed in this function should be in **radians**."
      ],
      "metadata": {
        "id": "rJUzDmElA-0u"
      }
    },
    {
      "cell_type": "code",
      "source": [
        "import math\n",
        " \n",
        "a = math.pi/6\n",
        " \n",
        "# returning the value of sine of pi/6\n",
        "print (\"The value of sine of pi/6 is : \", end=\"\")\n",
        "print (math.sin(a))\n",
        " \n",
        "# returning the value of cosine of pi/6\n",
        "print (\"The value of cosine of pi/6 is : \", end=\"\")\n",
        "print (math.cos(a))\n",
        " \n",
        "# returning the value of tangent of pi/6\n",
        "print (\"The value of tangent of pi/6 is : \", end=\"\")\n",
        "print (math.tan(a))"
      ],
      "metadata": {
        "colab": {
          "base_uri": "https://localhost:8080/"
        },
        "id": "e2G8alpZBFyI",
        "outputId": "64d0ef44-c489-47be-eab1-0b6f663746ef"
      },
      "execution_count": null,
      "outputs": [
        {
          "output_type": "stream",
          "name": "stdout",
          "text": [
            "The value of sine of pi/6 is : 0.49999999999999994\n",
            "The value of cosine of pi/6 is : 0.8660254037844387\n",
            "The value of tangent of pi/6 is : 0.5773502691896257\n"
          ]
        }
      ]
    },
    {
      "cell_type": "markdown",
      "source": [
        "**Converting values from degrees to radians and vice versa**\n",
        "\n",
        "`degrees()` function is used to convert argument value from radians to degrees.\n",
        "\n",
        "`radians()` function is used to convert argument value from degrees to radians."
      ],
      "metadata": {
        "id": "QkIa5AB0BJcl"
      }
    },
    {
      "cell_type": "code",
      "source": [
        "import math\n",
        " \n",
        "a = math.pi/6\n",
        "b = 30\n",
        " \n",
        "# returning the converted value from radians to degrees\n",
        "print (\"The converted value from radians to degrees is : \", end=\"\")\n",
        "print (math.degrees(a))\n",
        " \n",
        "# returning the converted value from degrees to radians\n",
        "print (\"The converted value from degrees to radians is : \", end=\"\")\n",
        "print (math.radians(b))"
      ],
      "metadata": {
        "colab": {
          "base_uri": "https://localhost:8080/"
        },
        "id": "wT8V56UCBOVd",
        "outputId": "7d04a958-3f07-4e5f-bc1a-95b0cb3d5049"
      },
      "execution_count": null,
      "outputs": [
        {
          "output_type": "stream",
          "name": "stdout",
          "text": [
            "The converted value from radians to degrees is : 29.999999999999996\n",
            "The converted value from degrees to radians is : 0.5235987755982988\n"
          ]
        }
      ]
    },
    {
      "cell_type": "markdown",
      "source": [
        "### ***Constants:***"
      ],
      "metadata": {
        "id": "rkFFkEMk7vTD"
      }
    },
    {
      "cell_type": "code",
      "source": [
        "import math\n",
        "\n",
        "print(math.e)\t# Returns Euler's number (2.7182...)\n",
        "print(math.inf)\t# Returns a floating-point positive infinity\n",
        "print(math.nan)\t# Returns a floating-point NaN (Not a Number) value\n",
        "print(math.pi)\t# Returns PI (3.1415...)\n",
        "print(math.tau)\t# Returns tau (6.2831...)"
      ],
      "metadata": {
        "colab": {
          "base_uri": "https://localhost:8080/"
        },
        "id": "7zan6za87VhM",
        "outputId": "b1420ef8-cdc7-4a5d-fa50-a4671d055f85"
      },
      "execution_count": null,
      "outputs": [
        {
          "output_type": "stream",
          "name": "stdout",
          "text": [
            "2.718281828459045\n",
            "inf\n",
            "nan\n",
            "3.141592653589793\n",
            "6.283185307179586\n"
          ]
        }
      ]
    },
    {
      "cell_type": "markdown",
      "source": [
        "### Practice:"
      ],
      "metadata": {
        "id": "NpJzh2vh6sd1"
      }
    },
    {
      "cell_type": "markdown",
      "source": [
        "Get the X value from user and calculate Equation below:"
      ],
      "metadata": {
        "id": "ofo8Rc516Xk9"
      }
    },
    {
      "cell_type": "markdown",
      "source": [
        "![image.png](data:image/png;base64,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)"
      ],
      "metadata": {
        "id": "7RkNNu38Nhae"
      }
    },
    {
      "cell_type": "markdown",
      "source": [
        "#### Answer:"
      ],
      "metadata": {
        "id": "pHMBxpyV6lrl"
      }
    },
    {
      "cell_type": "code",
      "source": [
        "import math\n",
        "\n",
        "x = int(input())\n",
        "z = math.pow(math.cos(math.radians(x)), 2)\n",
        "w = math.asin(z)\n",
        "y = math.floor(math.pow(math.e, w))\n",
        "print(math.gcd(x, y))"
      ],
      "metadata": {
        "id": "CZldEIrn5juT",
        "colab": {
          "base_uri": "https://localhost:8080/"
        },
        "outputId": "0a4295e2-09e9-4204-9d2a-37e714843776"
      },
      "execution_count": null,
      "outputs": [
        {
          "output_type": "stream",
          "name": "stdout",
          "text": [
            "3\n",
            "1\n"
          ]
        }
      ]
    },
    {
      "cell_type": "markdown",
      "source": [
        "### Question:"
      ],
      "metadata": {
        "id": "azOAmYOq7kIC"
      }
    },
    {
      "cell_type": "markdown",
      "source": [
        "![image.png](data:image/png;base64,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)"
      ],
      "metadata": {
        "id": "fOUY44Il-LIE"
      }
    },
    {
      "cell_type": "markdown",
      "source": [
        "      1 <= x <= 180\n",
        "The input to the trigonometric functions of the math library should be in the radian type. For example, to compute the sinus, you need to function as follows:\n",
        "\n",
        "    math.sin(math.radians(30))"
      ],
      "metadata": {
        "id": "1Ybaq6FeOdu6"
      }
    },
    {
      "cell_type": "markdown",
      "source": [
        "*Examples*:\n",
        "\n",
        "▶ Sample inputput 1:\n",
        "\n",
        "```\n",
        "5\n",
        "```\n",
        "\n",
        "▶ Sample output 1:\n",
        "\n",
        "```\n",
        "3\n",
        "```\n",
        "\n",
        "▶ Sample inputput 2:\n",
        "\n",
        "```\n",
        "7\n",
        "```\n",
        "\n",
        "▶ Sample output 2:\n",
        "\n",
        "```\n",
        "2\n",
        "```"
      ],
      "metadata": {
        "id": "43n-bfa3-WOk"
      }
    },
    {
      "cell_type": "markdown",
      "source": [
        "#### Answer:"
      ],
      "metadata": {
        "id": "oKTK7X8c7qfJ"
      }
    },
    {
      "cell_type": "code",
      "source": [
        "from math import *\n",
        "\n",
        "x = int(input())\n",
        "if 1 <= x <= 180:\n",
        "    m = ceil((pow(x, 5 / 3) + tan(radians(x))))\n",
        "    n = floor((pow(pi, 2 + atan(pow(sin(radians(x)), 2)))))\n",
        "    p = gcd(m, n)\n",
        "    print(p)"
      ],
      "metadata": {
        "id": "0TWka0T861wZ",
        "colab": {
          "base_uri": "https://localhost:8080/"
        },
        "outputId": "ea9efe78-852d-4c15-dbab-9887dc1cf8c4"
      },
      "execution_count": null,
      "outputs": [
        {
          "name": "stdout",
          "output_type": "stream",
          "text": [
            "190\n"
          ]
        }
      ]
    }
  ]
}